{
 "cells": [
  {
   "cell_type": "code",
   "execution_count": 49,
   "id": "a02d346c",
   "metadata": {},
   "outputs": [],
   "source": [
    "import pandas as pd\n",
    "import sys\n",
    "sys.path.append(\"/Users/damoncrockett/ivpy/src\")\n",
    "from ivpy import *\n",
    "import warnings\n",
    "warnings.filterwarnings('ignore')"
   ]
  },
  {
   "cell_type": "code",
   "execution_count": 50,
   "id": "44dac7e6",
   "metadata": {},
   "outputs": [],
   "source": [
    "db = pd.read_pickle(\"/Users/damoncrockett/lmlproc/dbdfgepneural.pkl\")"
   ]
  },
  {
   "cell_type": "code",
   "execution_count": 51,
   "id": "04d69c3b",
   "metadata": {},
   "outputs": [],
   "source": [
    "db.rename(columns={\"g60\":\"gloss\",\"ebins\":\"expressivenessGroup\",\"tbins\":\"isoGroup\"},inplace=True)"
   ]
  },
  {
   "cell_type": "code",
   "execution_count": 52,
   "id": "bf98483a",
   "metadata": {},
   "outputs": [],
   "source": [
    "for i in db.index:\n",
    "    catalog = db.catalog.loc[i]\n",
    "    sb = db.sb.loc[i]\n",
    "    \n",
    "    if not sb:\n",
    "        for j,c in enumerate(catalog):\n",
    "            if c.isalpha():\n",
    "                newcatalog = f'{catalog[:j]}_{catalog[j:]}'\n",
    "                db.catalog.loc[i] = newcatalog\n",
    "                #print(f'Changed {catalog} to {newcatalog}')"
   ]
  },
  {
   "cell_type": "code",
   "execution_count": 53,
   "id": "4564cf49",
   "metadata": {},
   "outputs": [],
   "source": [
    "pbcols = [\n",
    "    'catalog','man','bran','year','circa',\n",
    "    'surf','xword', 'gword', 'cword', 'tword',\n",
    "    'backp','postcard','toner','resin','sb','sbid','suffs',\n",
    "    'dmin', 'dmax', 'dminHex', 'dmaxHex', 'auc', 'roughness','gloss','thickness',\n",
    "    'expressiveness','radarGroup','expressivenessGroup','isoGroup',\n",
    "    'gep100','gep150','gep200','gep250','gep300','tmap'\n",
    "]"
   ]
  },
  {
   "cell_type": "code",
   "execution_count": 54,
   "id": "e54c054e",
   "metadata": {},
   "outputs": [],
   "source": [
    "def whiten(s):\n",
    "    try:\n",
    "        if \"specified]\" in s or \"[Indeterminate]\" in s:\n",
    "            return ''\n",
    "        else:\n",
    "            return s\n",
    "    except:\n",
    "        return s"
   ]
  },
  {
   "cell_type": "code",
   "execution_count": 55,
   "id": "847f3cb6",
   "metadata": {},
   "outputs": [],
   "source": [
    "db = db[pbcols].applymap(whiten)"
   ]
  },
  {
   "cell_type": "code",
   "execution_count": 56,
   "id": "002f58de",
   "metadata": {},
   "outputs": [],
   "source": [
    "db.rename(columns={\n",
    "    \"xword\":\"textureWord\",\n",
    "    \"gword\":\"glossWord\",\n",
    "    \"cword\":\"colorWord\",\n",
    "    \"tword\":\"thicknessWord\"\n",
    "},inplace=True)"
   ]
  },
  {
   "cell_type": "code",
   "execution_count": 57,
   "id": "2482153e",
   "metadata": {},
   "outputs": [],
   "source": [
    "import numpy as np"
   ]
  },
  {
   "cell_type": "code",
   "execution_count": 58,
   "id": "1d64ba75",
   "metadata": {},
   "outputs": [],
   "source": [
    "db.roughness = db.roughness.apply(lambda x: round(x,3))\n",
    "db.auc = db.auc.apply(lambda x: round(x,3))\n",
    "db.gloss = db.gloss.apply(lambda x: round(x,3))\n",
    "db.thickness = db.thickness.apply(lambda x: round(x,3))\n",
    "db.expressiveness = db.expressiveness.apply(lambda x: round(x,3))"
   ]
  },
  {
   "cell_type": "markdown",
   "id": "2b80fa4e",
   "metadata": {},
   "source": [
    "# center GEP"
   ]
  },
  {
   "cell_type": "code",
   "execution_count": 59,
   "id": "53bd8c39",
   "metadata": {},
   "outputs": [],
   "source": [
    "fullrows = db.loc[db.radarGroup.notnull()].index"
   ]
  },
  {
   "cell_type": "code",
   "execution_count": 60,
   "id": "1b96c71e",
   "metadata": {},
   "outputs": [],
   "source": [
    "def makeshift(l,xshift,yshift):\n",
    "    return [l[0]-xshift,l[1]-yshift,0]"
   ]
  },
  {
   "cell_type": "code",
   "execution_count": 61,
   "id": "fa125719",
   "metadata": {},
   "outputs": [],
   "source": [
    "for spread_factor in [100,150,200,250,300]:\n",
    "    gepcol = f'gep{spread_factor}'\n",
    "    gepdf = db[gepcol].loc[fullrows]\n",
    "    \n",
    "    xrange = gepdf.apply(lambda x: x[0]).max() - gepdf.apply(lambda x: x[0]).min()\n",
    "    xshift = int(xrange/2)\n",
    "    \n",
    "    yrange = gepdf.apply(lambda x: x[1]).max() - gepdf.apply(lambda x: x[1]).min()\n",
    "    yshift = int(yrange/2)\n",
    "    \n",
    "    gepdf = gepdf.apply(lambda l: makeshift(l,xshift,yshift))\n",
    "    db[gepcol].loc[fullrows] = gepdf"
   ]
  },
  {
   "cell_type": "markdown",
   "id": "0665d511",
   "metadata": {},
   "source": [
    "# JSON"
   ]
  },
  {
   "cell_type": "code",
   "execution_count": 62,
   "id": "ddb50d94",
   "metadata": {},
   "outputs": [],
   "source": [
    "def fillrand(cell):\n",
    "    if isinstance(cell,list):\n",
    "        return cell\n",
    "    else:\n",
    "        return [\n",
    "            np.random.randint(200,500),\n",
    "            np.random.randint(200,500),\n",
    "            0\n",
    "        ]"
   ]
  },
  {
   "cell_type": "code",
   "execution_count": 63,
   "id": "7eafede7",
   "metadata": {},
   "outputs": [],
   "source": [
    "db[[c for c in db.columns if 'gep' in c]] = db[[c for c in db.columns if 'gep' in c]].applymap(fillrand)"
   ]
  },
  {
   "cell_type": "code",
   "execution_count": 64,
   "id": "19b66ff9",
   "metadata": {},
   "outputs": [],
   "source": [
    "db.tmap = db.tmap.apply(fillrand)"
   ]
  },
  {
   "cell_type": "code",
   "execution_count": 65,
   "id": "e3b4a7e5",
   "metadata": {},
   "outputs": [],
   "source": [
    "db = db.fillna('')"
   ]
  },
  {
   "cell_type": "markdown",
   "id": "c5f19f08",
   "metadata": {},
   "source": [
    "#### Has processing instructions"
   ]
  },
  {
   "cell_type": "code",
   "execution_count": 66,
   "id": "592f50bc",
   "metadata": {},
   "outputs": [],
   "source": [
    "import glob,os"
   ]
  },
  {
   "cell_type": "code",
   "execution_count": 67,
   "id": "39bb292e",
   "metadata": {},
   "outputs": [],
   "source": [
    "allproc = glob.glob(os.path.join(\"/Users/damoncrockett/paperbase/src/assets/img/processing/\",\"*.pdf\"))"
   ]
  },
  {
   "cell_type": "code",
   "execution_count": 68,
   "id": "8d5a1811",
   "metadata": {},
   "outputs": [],
   "source": [
    "procats = [os.path.basename(item)[:-4] for item in allproc]"
   ]
  },
  {
   "cell_type": "code",
   "execution_count": 69,
   "id": "91466007",
   "metadata": {},
   "outputs": [],
   "source": [
    "db['processing'] = 0"
   ]
  },
  {
   "cell_type": "code",
   "execution_count": 70,
   "id": "e2277cd3",
   "metadata": {},
   "outputs": [],
   "source": [
    "db.processing.loc[db.catalog.isin(procats)] = 1"
   ]
  },
  {
   "cell_type": "code",
   "execution_count": 71,
   "id": "ed403dbe",
   "metadata": {},
   "outputs": [],
   "source": [
    "db[['circa','postcard','resin','sb','processing']] = db[['circa','postcard','resin','sb','processing']].applymap(str)"
   ]
  },
  {
   "cell_type": "markdown",
   "id": "3f4a9ce8",
   "metadata": {},
   "source": [
    "#### sorting order"
   ]
  },
  {
   "cell_type": "code",
   "execution_count": 72,
   "id": "bc3be174",
   "metadata": {},
   "outputs": [],
   "source": [
    "import re\n",
    "\n",
    "def alpha_to_numeric(alpha):\n",
    "    value = 0\n",
    "    for char in alpha:\n",
    "        # Position in alphabet, where 'a' is 1, 'z' is 26\n",
    "        position = ord(char) - ord('a') + 1\n",
    "        # Scale previous value by 26 (like base-26 numeral system)\n",
    "        value = value * 26 + position\n",
    "    return value\n",
    "\n",
    "def catalog_key(s):\n",
    "    numeric_part = re.findall(r'\\d+', s)\n",
    "    alpha_part = re.findall(r'[a-zA-Z]+', s)\n",
    "    \n",
    "    # Convert numeric part to integer\n",
    "    num = int(numeric_part[0]) if numeric_part else 0\n",
    "    \n",
    "    # Convert alphabetic part to a single large integer\n",
    "    alpha_value = alpha_to_numeric(alpha_part[0]) if alpha_part else 0\n",
    "    \n",
    "    return (num, alpha_value)"
   ]
  },
  {
   "cell_type": "code",
   "execution_count": 73,
   "id": "4f5cc675",
   "metadata": {},
   "outputs": [],
   "source": [
    "db['sortcol'] = db.catalog.apply(catalog_key)"
   ]
  },
  {
   "cell_type": "code",
   "execution_count": 74,
   "id": "d886d62f",
   "metadata": {},
   "outputs": [],
   "source": [
    "db = db.sort_values(by='sortcol')"
   ]
  },
  {
   "cell_type": "code",
   "execution_count": 75,
   "id": "7228a9df",
   "metadata": {},
   "outputs": [],
   "source": [
    "del db['sortcol']"
   ]
  },
  {
   "cell_type": "code",
   "execution_count": 76,
   "id": "47ef827e",
   "metadata": {},
   "outputs": [],
   "source": [
    "dbjson = {col: db[col].tolist() for col in db.columns}"
   ]
  },
  {
   "cell_type": "code",
   "execution_count": 77,
   "id": "33e88ad2",
   "metadata": {},
   "outputs": [],
   "source": [
    "import json\n",
    "\n",
    "with open('/Users/damoncrockett/paperbase/src/assets/data/data.json', 'w') as json_file:\n",
    "    json.dump(dbjson, json_file)"
   ]
  },
  {
   "cell_type": "markdown",
   "id": "3bb7b5fe",
   "metadata": {},
   "source": [
    "# 4787 Image Overwrite"
   ]
  },
  {
   "cell_type": "code",
   "execution_count": 78,
   "id": "45210966",
   "metadata": {},
   "outputs": [],
   "source": [
    "from PIL import Image\n",
    "import shutil"
   ]
  },
  {
   "cell_type": "code",
   "execution_count": 79,
   "id": "689b58f8",
   "metadata": {},
   "outputs": [],
   "source": [
    "OLDDIR = \"/Users/damoncrockett/Desktop/paperbase_OLD/samplebooks_expos/\""
   ]
  },
  {
   "cell_type": "code",
   "execution_count": 80,
   "id": "ce381832",
   "metadata": {},
   "outputs": [],
   "source": [
    "allold = glob.glob(os.path.join(OLDDIR,\"*.jpg\"))"
   ]
  },
  {
   "cell_type": "code",
   "execution_count": 81,
   "id": "68213700",
   "metadata": {},
   "outputs": [],
   "source": [
    "alloldsorted = sorted([item for item in allold if '4787' in item])"
   ]
  },
  {
   "cell_type": "code",
   "execution_count": 89,
   "id": "ec0f3042",
   "metadata": {},
   "outputs": [],
   "source": [
    "sourcez = alloldsorted[3:-3]"
   ]
  },
  {
   "cell_type": "code",
   "execution_count": 82,
   "id": "dbb31aaf",
   "metadata": {},
   "outputs": [],
   "source": [
    "PRE = \"/Users/damoncrockett/paperbase/src/assets/img/samplebooks\""
   ]
  },
  {
   "cell_type": "code",
   "execution_count": 91,
   "id": "54962d42",
   "metadata": {
    "scrolled": false
   },
   "outputs": [],
   "source": [
    "for i,suff in enumerate('abcdefghijklmnopqrstuvw'):\n",
    "    source_file = sourcez[i]\n",
    "    #shutil.copy(source_file,f'{PRE}/4787{suff}.jpg')\n",
    "    print(source_file,f'{PRE}/4787{suff}.jpg')\n",
    "    \n",
    "    for resiz in [2048,1024,512,256]:\n",
    "        im = Image.open(source_file)\n",
    "        im.thumbnail((resiz,resiz),Image.LANCZOS)\n",
    "        #im.save(f'{PRE}_{resiz}/4787{suff}.jpg')\n",
    "        print(f'{PRE}_{resiz}/4787{suff}.jpg')"
   ]
  }
 ],
 "metadata": {
  "kernelspec": {
   "display_name": "Python 3 (ipykernel)",
   "language": "python",
   "name": "python3"
  },
  "language_info": {
   "codemirror_mode": {
    "name": "ipython",
    "version": 3
   },
   "file_extension": ".py",
   "mimetype": "text/x-python",
   "name": "python",
   "nbconvert_exporter": "python",
   "pygments_lexer": "ipython3",
   "version": "3.10.4"
  }
 },
 "nbformat": 4,
 "nbformat_minor": 5
}
