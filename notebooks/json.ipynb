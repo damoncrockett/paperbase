{
 "cells": [
  {
   "cell_type": "code",
   "execution_count": 1,
   "id": "a02d346c",
   "metadata": {},
   "outputs": [],
   "source": [
    "import pandas as pd\n",
    "import sys\n",
    "sys.path.append(\"/Users/damoncrockett/ivpy/src\")\n",
    "from ivpy import *\n",
    "import warnings\n",
    "warnings.filterwarnings('ignore')"
   ]
  },
  {
   "cell_type": "code",
   "execution_count": 2,
   "id": "44dac7e6",
   "metadata": {},
   "outputs": [],
   "source": [
    "db = pd.read_pickle(\"/Users/damoncrockett/lmlproc/dbdfgepneural.pkl\")"
   ]
  },
  {
   "cell_type": "code",
   "execution_count": 3,
   "id": "04d69c3b",
   "metadata": {},
   "outputs": [],
   "source": [
    "db.rename(columns={\"g60\":\"gloss\",\"ebins\":\"expressivenessGroup\",\"tbins\":\"isoGroup\"},inplace=True)"
   ]
  },
  {
   "cell_type": "code",
   "execution_count": 4,
   "id": "bf98483a",
   "metadata": {},
   "outputs": [],
   "source": [
    "for i in db.index:\n",
    "    catalog = db.catalog.loc[i]\n",
    "    sb = db.sb.loc[i]\n",
    "    \n",
    "    if not sb:\n",
    "        for j,c in enumerate(catalog):\n",
    "            if c.isalpha():\n",
    "                newcatalog = f'{catalog[:j]}_{catalog[j:]}'\n",
    "                db.catalog.loc[i] = newcatalog\n",
    "                #print(f'Changed {catalog} to {newcatalog}')"
   ]
  },
  {
   "cell_type": "code",
   "execution_count": 10,
   "id": "9492b732",
   "metadata": {},
   "outputs": [
    {
     "data": {
      "text/plain": [
       "Kodak Velox 1948 F Smooth Glossy White Single Weight                                                               23\n",
       "Kodak Velox 1944 F Smooth Glossy White Single Weight                                                               21\n",
       "Agfa Gevaert Brovira 1970 1 [texture unspecified] Glossy Extra White Single Weight                                 20\n",
       "Kodak Velox 1947 F Smooth Glossy White Single Weight                                                               18\n",
       "Kodak Velox 1915 Velvet (Velox) [texture unspecified] Semi Glossy [base color unspecified] [weight unspecified]    18\n",
       "                                                                                                                   ..\n",
       "Granville Deluxe Bromide 1930 A [texture unspecified] Glossy [base color unspecified] [weight unspecified]          1\n",
       "Agfa Portriga 1960 132 Smooth Semi Matte Ivory Double Weight                                                        1\n",
       "Agfa Gevaert Portriga Rapid 1971 112 Smooth Semi Matte Extra White Double Weight                                    1\n",
       "Ferrania Vega 1966 K205 Smooth Matte Cream Double Weight                                                            1\n",
       "Kodak Medalist 1958 F Smooth Glossy White Single Weight                                                             1\n",
       "Name: pid, Length: 4266, dtype: int64"
      ]
     },
     "execution_count": 10,
     "metadata": {},
     "output_type": "execute_result"
    }
   ],
   "source": [
    "db.pid.value_counts()"
   ]
  },
  {
   "cell_type": "code",
   "execution_count": 5,
   "id": "4564cf49",
   "metadata": {},
   "outputs": [],
   "source": [
    "pbcols = [\n",
    "    'catalog','man','bran','year','circa',\n",
    "    'surf','xword', 'gword', 'cword', 'tword','dims',\n",
    "    'backp','postcard','toner','resin','sb','sbid','suffs',\n",
    "    'dmin', 'dmax', 'dminHex', 'dmaxHex', 'auc', 'roughness','gloss','thickness',\n",
    "    'expressiveness','radarGroup','expressivenessGroup','isoGroup',\n",
    "    'gep100','gep150','gep200','gep250','gep300','tmap'\n",
    "]"
   ]
  },
  {
   "cell_type": "code",
   "execution_count": 6,
   "id": "e54c054e",
   "metadata": {},
   "outputs": [],
   "source": [
    "def whiten(s):\n",
    "    try:\n",
    "        if \"specified]\" in s or \"[Indeterminate]\" in s:\n",
    "            return ''\n",
    "        else:\n",
    "            return s\n",
    "    except:\n",
    "        return s"
   ]
  },
  {
   "cell_type": "code",
   "execution_count": 7,
   "id": "847f3cb6",
   "metadata": {},
   "outputs": [],
   "source": [
    "db = db[pbcols].applymap(whiten)"
   ]
  },
  {
   "cell_type": "code",
   "execution_count": 8,
   "id": "002f58de",
   "metadata": {},
   "outputs": [],
   "source": [
    "db.rename(columns={\n",
    "    \"xword\":\"textureWord\",\n",
    "    \"gword\":\"glossWord\",\n",
    "    \"cword\":\"colorWord\",\n",
    "    \"tword\":\"thicknessWord\"\n",
    "},inplace=True)"
   ]
  },
  {
   "cell_type": "code",
   "execution_count": 9,
   "id": "2482153e",
   "metadata": {},
   "outputs": [],
   "source": [
    "import numpy as np"
   ]
  },
  {
   "cell_type": "code",
   "execution_count": 10,
   "id": "1d64ba75",
   "metadata": {},
   "outputs": [],
   "source": [
    "db.roughness = db.roughness.apply(lambda x: round(x,3))\n",
    "db.auc = db.auc.apply(lambda x: round(x,3))\n",
    "db.gloss = db.gloss.apply(lambda x: round(x,3))\n",
    "db.thickness = db.thickness.apply(lambda x: round(x,3))\n",
    "db.expressiveness = db.expressiveness.apply(lambda x: round(x,3))"
   ]
  },
  {
   "cell_type": "markdown",
   "id": "2b80fa4e",
   "metadata": {},
   "source": [
    "# center GEP"
   ]
  },
  {
   "cell_type": "code",
   "execution_count": 11,
   "id": "53bd8c39",
   "metadata": {},
   "outputs": [],
   "source": [
    "fullrows = db.loc[db.radarGroup.notnull()].index"
   ]
  },
  {
   "cell_type": "code",
   "execution_count": 12,
   "id": "1b96c71e",
   "metadata": {},
   "outputs": [],
   "source": [
    "def makeshift(l,xshift,yshift):\n",
    "    return [l[0]-xshift,l[1]-yshift,0]"
   ]
  },
  {
   "cell_type": "code",
   "execution_count": 13,
   "id": "fa125719",
   "metadata": {},
   "outputs": [],
   "source": [
    "for spread_factor in [100,150,200,250,300]:\n",
    "    gepcol = f'gep{spread_factor}'\n",
    "    gepdf = db[gepcol].loc[fullrows]\n",
    "    \n",
    "    xmin = gepdf.apply(lambda x: x[0]).min()\n",
    "    xrange = gepdf.apply(lambda x: x[0]).max() - xmin\n",
    "    xshift = int(xrange/2)\n",
    "    \n",
    "    ymin = gepdf.apply(lambda x: x[1]).min()\n",
    "    yrange = gepdf.apply(lambda x: x[1]).max() - ymin\n",
    "    yshift = int(yrange/2)\n",
    "    \n",
    "    gepdf = gepdf.apply(lambda l: makeshift(l,xshift,yshift))\n",
    "#     gepdf = gepdf.apply(lambda l: makeshift(l,0,0))\n",
    "#     gepdf = gepdf.apply(lambda l: makeshift(l,int(xmin),int(ymin)))\n",
    "    \n",
    "    db[gepcol].loc[fullrows] = gepdf"
   ]
  },
  {
   "cell_type": "markdown",
   "id": "0665d511",
   "metadata": {},
   "source": [
    "# JSON"
   ]
  },
  {
   "cell_type": "code",
   "execution_count": 14,
   "id": "ddb50d94",
   "metadata": {},
   "outputs": [],
   "source": [
    "def fillrand(cell):\n",
    "    if isinstance(cell,list):\n",
    "        return cell\n",
    "    else:\n",
    "        return [\n",
    "            np.random.randint(500,800),\n",
    "            np.random.randint(500,800),\n",
    "            0\n",
    "        ]"
   ]
  },
  {
   "cell_type": "code",
   "execution_count": 15,
   "id": "7eafede7",
   "metadata": {},
   "outputs": [],
   "source": [
    "db[[c for c in db.columns if 'gep' in c]] = db[[c for c in db.columns if 'gep' in c]].applymap(fillrand)"
   ]
  },
  {
   "cell_type": "code",
   "execution_count": 16,
   "id": "19b66ff9",
   "metadata": {},
   "outputs": [],
   "source": [
    "db.tmap = db.tmap.apply(fillrand)"
   ]
  },
  {
   "cell_type": "code",
   "execution_count": 17,
   "id": "e3b4a7e5",
   "metadata": {},
   "outputs": [],
   "source": [
    "db = db.fillna('')"
   ]
  },
  {
   "cell_type": "markdown",
   "id": "c5f19f08",
   "metadata": {},
   "source": [
    "#### Has processing instructions"
   ]
  },
  {
   "cell_type": "code",
   "execution_count": 18,
   "id": "592f50bc",
   "metadata": {},
   "outputs": [],
   "source": [
    "import glob,os"
   ]
  },
  {
   "cell_type": "code",
   "execution_count": 19,
   "id": "39bb292e",
   "metadata": {},
   "outputs": [],
   "source": [
    "allproc = glob.glob(os.path.join(\"/Users/damoncrockett/paperbase/src/assets/img/processing/\",\"*.pdf\"))"
   ]
  },
  {
   "cell_type": "code",
   "execution_count": 20,
   "id": "8d5a1811",
   "metadata": {},
   "outputs": [],
   "source": [
    "procats = [os.path.basename(item)[:-4] for item in allproc]"
   ]
  },
  {
   "cell_type": "code",
   "execution_count": 21,
   "id": "91466007",
   "metadata": {},
   "outputs": [],
   "source": [
    "db['processing'] = 0"
   ]
  },
  {
   "cell_type": "code",
   "execution_count": 22,
   "id": "e2277cd3",
   "metadata": {},
   "outputs": [],
   "source": [
    "db.processing.loc[db.catalog.isin(procats)] = 1"
   ]
  },
  {
   "cell_type": "code",
   "execution_count": 23,
   "id": "ed403dbe",
   "metadata": {},
   "outputs": [],
   "source": [
    "db[['circa','postcard','resin','sb','processing']] = db[['circa','postcard','resin','sb','processing']].applymap(str)"
   ]
  },
  {
   "cell_type": "markdown",
   "id": "b274e8c1",
   "metadata": {},
   "source": [
    "#### dims"
   ]
  },
  {
   "cell_type": "code",
   "execution_count": 24,
   "id": "2d50a430",
   "metadata": {},
   "outputs": [],
   "source": [
    "def int2str(i):\n",
    "    try:\n",
    "        int(i)\n",
    "        if i==int(i):\n",
    "            return str(int(i))\n",
    "        else:\n",
    "            return str(i)\n",
    "    except:\n",
    "        return i"
   ]
  },
  {
   "cell_type": "code",
   "execution_count": 25,
   "id": "f97f5c03",
   "metadata": {},
   "outputs": [],
   "source": [
    "def fraction2decimal(s):\n",
    "    \n",
    "    s = s.strip()\n",
    "    s = s.lower()\n",
    "    s = s.replace(' 1/2','.5')\n",
    "    s = s.replace(' 1/4','.25')\n",
    "    s = s.replace(' 3/4','.75')\n",
    "    s = s.replace(' 1/8','.125')\n",
    "    s = s.replace(' 3/8','.375')\n",
    "    s = s.replace(' 5/8','.625')\n",
    "    s = s.replace(' 7/8','.875')\n",
    "    \n",
    "    l = s.split('x')\n",
    "    l = [item.strip() for item in l]\n",
    "    \n",
    "    if any([\"'\" in item for item in l]):\n",
    "        l = [l[0],\"roll\"]\n",
    "    \n",
    "    if any(['cm' in item for item in l]):\n",
    "        try:\n",
    "            l = [round(float(item.replace(' cm','')) * 0.393701,3) for item in l]\n",
    "        except:\n",
    "            l = [round(float(item.replace('cm','')) * 0.393701,3) for item in l]\n",
    "            \n",
    "    try:\n",
    "        l = [float(item) for item in l]\n",
    "        l = sorted(l)\n",
    "        l = [int2str(item) for item in l]\n",
    "    except:\n",
    "        pass\n",
    "    \n",
    "    if any([item=='18)/100' for item in l]):\n",
    "        l = ['13','18']\n",
    "    \n",
    "    if len(l)==1:\n",
    "        l0 = l[0]\n",
    "        if l0 == \"[no size]\":\n",
    "            return ''\n",
    "        else:\n",
    "            return l0\n",
    "    else:\n",
    "        return f'{l[0]} x {l[1]}'"
   ]
  },
  {
   "cell_type": "code",
   "execution_count": 26,
   "id": "a0d0929b",
   "metadata": {
    "scrolled": false
   },
   "outputs": [],
   "source": [
    "db.dims = db.dims.apply(fraction2decimal)"
   ]
  },
  {
   "cell_type": "markdown",
   "id": "3f4a9ce8",
   "metadata": {},
   "source": [
    "#### sorting order"
   ]
  },
  {
   "cell_type": "code",
   "execution_count": 27,
   "id": "bc3be174",
   "metadata": {},
   "outputs": [],
   "source": [
    "import re\n",
    "\n",
    "def alpha_to_numeric(alpha):\n",
    "    value = 0\n",
    "    for char in alpha:\n",
    "        # Position in alphabet, where 'a' is 1, 'z' is 26\n",
    "        position = ord(char) - ord('a') + 1\n",
    "        # Scale previous value by 26 (like base-26 numeral system)\n",
    "        value = value * 26 + position\n",
    "    return value\n",
    "\n",
    "def catalog_key(s):\n",
    "    numeric_part = re.findall(r'\\d+', s)\n",
    "    alpha_part = re.findall(r'[a-zA-Z]+', s)\n",
    "    \n",
    "    # Convert numeric part to integer\n",
    "    num = int(numeric_part[0]) if numeric_part else 0\n",
    "    \n",
    "    # Convert alphabetic part to a single large integer\n",
    "    alpha_value = alpha_to_numeric(alpha_part[0]) if alpha_part else 0\n",
    "    \n",
    "    return (num, alpha_value)"
   ]
  },
  {
   "cell_type": "code",
   "execution_count": 28,
   "id": "4f5cc675",
   "metadata": {},
   "outputs": [],
   "source": [
    "db['sortcol'] = db.catalog.apply(catalog_key)"
   ]
  },
  {
   "cell_type": "code",
   "execution_count": 29,
   "id": "d886d62f",
   "metadata": {},
   "outputs": [],
   "source": [
    "db = db.sort_values(by='sortcol')"
   ]
  },
  {
   "cell_type": "code",
   "execution_count": 30,
   "id": "7228a9df",
   "metadata": {},
   "outputs": [],
   "source": [
    "del db['sortcol']"
   ]
  },
  {
   "cell_type": "code",
   "execution_count": 31,
   "id": "cbbed65e",
   "metadata": {},
   "outputs": [],
   "source": [
    "db.to_pickle('db_json.pkl')"
   ]
  },
  {
   "cell_type": "code",
   "execution_count": 32,
   "id": "96aa8e8d",
   "metadata": {},
   "outputs": [],
   "source": [
    "db.to_csv('august2024_dimensions.csv',index=False)"
   ]
  },
  {
   "cell_type": "code",
   "execution_count": 33,
   "id": "a0d14022",
   "metadata": {},
   "outputs": [
    {
     "data": {
      "text/plain": [
       "Index(['catalog', 'man', 'bran', 'year', 'circa', 'surf', 'textureWord',\n",
       "       'glossWord', 'colorWord', 'thicknessWord', 'dims', 'backp', 'postcard',\n",
       "       'toner', 'resin', 'sb', 'sbid', 'suffs', 'dmin', 'dmax', 'dminHex',\n",
       "       'dmaxHex', 'auc', 'roughness', 'gloss', 'thickness', 'expressiveness',\n",
       "       'radarGroup', 'expressivenessGroup', 'isoGroup', 'gep100', 'gep150',\n",
       "       'gep200', 'gep250', 'gep300', 'tmap', 'processing'],\n",
       "      dtype='object')"
      ]
     },
     "execution_count": 33,
     "metadata": {},
     "output_type": "execute_result"
    }
   ],
   "source": [
    "db.columns"
   ]
  },
  {
   "cell_type": "code",
   "execution_count": 34,
   "id": "47ef827e",
   "metadata": {},
   "outputs": [],
   "source": [
    "dbjson = {col: db[col].tolist() for col in db.columns}"
   ]
  },
  {
   "cell_type": "code",
   "execution_count": 35,
   "id": "33e88ad2",
   "metadata": {},
   "outputs": [],
   "source": [
    "import json\n",
    "\n",
    "with open('/Users/damoncrockett/paperbase/src/assets/data/data.json', 'w') as json_file:\n",
    "    json.dump(dbjson, json_file)"
   ]
  },
  {
   "cell_type": "markdown",
   "id": "3bb7b5fe",
   "metadata": {},
   "source": [
    "# 4787 Image Overwrite"
   ]
  },
  {
   "cell_type": "code",
   "execution_count": 36,
   "id": "45210966",
   "metadata": {},
   "outputs": [],
   "source": [
    "from PIL import Image\n",
    "import shutil"
   ]
  },
  {
   "cell_type": "code",
   "execution_count": 37,
   "id": "689b58f8",
   "metadata": {},
   "outputs": [],
   "source": [
    "# OLDDIR = \"/Users/damoncrockett/Desktop/paperbase_OLD/samplebooks_expos/\"\n",
    "# allold = glob.glob(os.path.join(OLDDIR,\"*.jpg\"))\n",
    "# alloldsorted = sorted([item for item in allold if '4787' in item])\n",
    "# sourcez = alloldsorted[3:-3]\n",
    "# PRE = \"/Users/damoncrockett/paperbase/src/assets/img/samplebooks\"\n",
    "\n",
    "# for i,suff in enumerate('abcdefghijklmnopqrstuvw'):\n",
    "#     source_file = sourcez[i]\n",
    "#     shutil.copy(source_file,f'{PRE}/4787{suff}.jpg')\n",
    "#     print(source_file,f'{PRE}/4787{suff}.jpg')\n",
    "    \n",
    "#     for resiz in [2048,1024,512,256]:\n",
    "#         im = Image.open(source_file)\n",
    "#         im.thumbnail((resiz,resiz),Image.LANCZOS)\n",
    "#         im.save(f'{PRE}_{resiz}/4787{suff}.jpg')\n",
    "#         print(f'{PRE}_{resiz}/4787{suff}.jpg')"
   ]
  }
 ],
 "metadata": {
  "kernelspec": {
   "display_name": "Python 3 (ipykernel)",
   "language": "python",
   "name": "python3"
  },
  "language_info": {
   "codemirror_mode": {
    "name": "ipython",
    "version": 3
   },
   "file_extension": ".py",
   "mimetype": "text/x-python",
   "name": "python",
   "nbconvert_exporter": "python",
   "pygments_lexer": "ipython3",
   "version": "3.10.4"
  }
 },
 "nbformat": 4,
 "nbformat_minor": 5
}
