{
 "cells": [
  {
   "cell_type": "code",
   "execution_count": 1,
   "id": "1a9e2c22",
   "metadata": {},
   "outputs": [],
   "source": [
    "import pandas as pd\n",
    "import sys\n",
    "sys.path.append(\"/Users/damoncrockett/ivpy/src\")\n",
    "from ivpy import *\n",
    "import warnings\n",
    "warnings.filterwarnings('ignore')"
   ]
  },
  {
   "cell_type": "code",
   "execution_count": 2,
   "id": "a6e7f040",
   "metadata": {},
   "outputs": [],
   "source": [
    "db = pd.read_pickle(\"/Users/damoncrockett/lmlproc/dbdfgepneural.pkl\")"
   ]
  },
  {
   "cell_type": "code",
   "execution_count": 3,
   "id": "f89c5de6",
   "metadata": {},
   "outputs": [],
   "source": [
    "db.rename(columns={\"g60\":\"gloss\",\"ebins\":\"expressivenessGroup\",\"tbins\":\"isoGroup\"},inplace=True)"
   ]
  },
  {
   "cell_type": "code",
   "execution_count": 4,
   "id": "496f5e1b",
   "metadata": {},
   "outputs": [],
   "source": [
    "for i in db.index:\n",
    "    catalog = db.catalog.loc[i]\n",
    "    sb = db.sb.loc[i]\n",
    "    \n",
    "    if not sb:\n",
    "        for j,c in enumerate(catalog):\n",
    "            if c.isalpha():\n",
    "                newcatalog = f'{catalog[:j]}_{catalog[j:]}'\n",
    "                db.catalog.loc[i] = newcatalog\n",
    "                #print(f'Changed {catalog} to {newcatalog}')"
   ]
  },
  {
   "cell_type": "code",
   "execution_count": 5,
   "id": "b45a672e",
   "metadata": {},
   "outputs": [],
   "source": [
    "pbcols = [\n",
    "    'catalog','man','bran','year','circa',\n",
    "    'surf','xword', 'gword', 'cword', 'tword',\n",
    "    'backp','postcard','toner','resin','sb','sbid','suffs',\n",
    "    'dmin', 'dmax', 'dminHex', 'dmaxHex', 'auc', 'roughness','gloss','thickness',\n",
    "    'expressiveness','radarGroup','expressivenessGroup','isoGroup',\n",
    "    'gep100','gep150','gep200','gep250','gep300','tmap'\n",
    "]"
   ]
  },
  {
   "cell_type": "code",
   "execution_count": 6,
   "id": "a3439f4a",
   "metadata": {},
   "outputs": [],
   "source": [
    "def whiten(s):\n",
    "    try:\n",
    "        if \"specified]\" in s or \"[Indeterminate]\" in s:\n",
    "            return ''\n",
    "        else:\n",
    "            return s\n",
    "    except:\n",
    "        return s"
   ]
  },
  {
   "cell_type": "code",
   "execution_count": 7,
   "id": "1c2d8cf2",
   "metadata": {},
   "outputs": [],
   "source": [
    "db = db[pbcols].applymap(whiten)"
   ]
  },
  {
   "cell_type": "code",
   "execution_count": 8,
   "id": "513203d8",
   "metadata": {},
   "outputs": [],
   "source": [
    "db.rename(columns={\n",
    "    \"xword\":\"textureWord\",\n",
    "    \"gword\":\"glossWord\",\n",
    "    \"cword\":\"colorWord\",\n",
    "    \"tword\":\"thicknessWord\"\n",
    "},inplace=True)"
   ]
  },
  {
   "cell_type": "code",
   "execution_count": 9,
   "id": "d940147d",
   "metadata": {},
   "outputs": [],
   "source": [
    "import numpy as np"
   ]
  },
  {
   "cell_type": "code",
   "execution_count": 10,
   "id": "2ba8b90e",
   "metadata": {},
   "outputs": [],
   "source": [
    "db.roughness = db.roughness.apply(lambda x: round(x,3))\n",
    "db.auc = db.auc.apply(lambda x: round(x,3))\n",
    "db.gloss = db.gloss.apply(lambda x: round(x,3))\n",
    "db.thickness = db.thickness.apply(lambda x: round(x,3))\n",
    "db.expressiveness = db.expressiveness.apply(lambda x: round(x,3))"
   ]
  },
  {
   "cell_type": "markdown",
   "id": "528b781b",
   "metadata": {},
   "source": [
    "# center GEP"
   ]
  },
  {
   "cell_type": "code",
   "execution_count": 11,
   "id": "54dae08b",
   "metadata": {},
   "outputs": [],
   "source": [
    "fullrows = db.loc[db.radarGroup.notnull()].index"
   ]
  },
  {
   "cell_type": "code",
   "execution_count": 12,
   "id": "41bbe2f0",
   "metadata": {},
   "outputs": [],
   "source": [
    "def makeshift(l,xshift,yshift):\n",
    "    return [l[0]-xshift,l[1]-yshift,0]"
   ]
  },
  {
   "cell_type": "code",
   "execution_count": 13,
   "id": "e6affade",
   "metadata": {},
   "outputs": [],
   "source": [
    "for spread_factor in [100,150,200,250,300]:\n",
    "    gepcol = f'gep{spread_factor}'\n",
    "    gepdf = db[gepcol].loc[fullrows]\n",
    "    \n",
    "    xrange = gepdf.apply(lambda x: x[0]).max() - gepdf.apply(lambda x: x[0]).min()\n",
    "    xshift = int(xrange/2)\n",
    "    \n",
    "    yrange = gepdf.apply(lambda x: x[1]).max() - gepdf.apply(lambda x: x[1]).min()\n",
    "    yshift = int(yrange/2)\n",
    "    \n",
    "    gepdf = gepdf.apply(lambda l: makeshift(l,xshift,yshift))\n",
    "    db[gepcol].loc[fullrows] = gepdf"
   ]
  },
  {
   "cell_type": "markdown",
   "id": "f989442f",
   "metadata": {},
   "source": [
    "# JSON"
   ]
  },
  {
   "cell_type": "code",
   "execution_count": 14,
   "id": "fb40ef35",
   "metadata": {},
   "outputs": [],
   "source": [
    "def fillrand(cell):\n",
    "    if isinstance(cell,list):\n",
    "        return cell\n",
    "    else:\n",
    "        return [\n",
    "            np.random.randint(200,500),\n",
    "            np.random.randint(200,500),\n",
    "            0\n",
    "        ]"
   ]
  },
  {
   "cell_type": "code",
   "execution_count": 15,
   "id": "74899f23",
   "metadata": {},
   "outputs": [],
   "source": [
    "db[[c for c in db.columns if 'gep' in c]] = db[[c for c in db.columns if 'gep' in c]].applymap(fillrand)"
   ]
  },
  {
   "cell_type": "code",
   "execution_count": 16,
   "id": "9ddd3f70",
   "metadata": {},
   "outputs": [],
   "source": [
    "db.tmap = db.tmap.apply(fillrand)"
   ]
  },
  {
   "cell_type": "code",
   "execution_count": 17,
   "id": "044f470f",
   "metadata": {},
   "outputs": [],
   "source": [
    "db = db.fillna('')"
   ]
  },
  {
   "cell_type": "markdown",
   "id": "0a7767d4",
   "metadata": {},
   "source": [
    "#### Has processing instructions"
   ]
  },
  {
   "cell_type": "code",
   "execution_count": 23,
   "id": "915eda7e",
   "metadata": {},
   "outputs": [],
   "source": [
    "import glob,os"
   ]
  },
  {
   "cell_type": "code",
   "execution_count": 25,
   "id": "786e0048",
   "metadata": {},
   "outputs": [],
   "source": [
    "allproc = glob.glob(os.path.join(\"/Users/damoncrockett/paperbase/src/assets/img/processing/\",\"*.pdf\"))"
   ]
  },
  {
   "cell_type": "code",
   "execution_count": 28,
   "id": "27f9301d",
   "metadata": {},
   "outputs": [],
   "source": [
    "procats = [os.path.basename(item)[:-4] for item in allproc]"
   ]
  },
  {
   "cell_type": "code",
   "execution_count": 31,
   "id": "88638ee2",
   "metadata": {},
   "outputs": [],
   "source": [
    "db['processing'] = 0"
   ]
  },
  {
   "cell_type": "code",
   "execution_count": 32,
   "id": "65ea103d",
   "metadata": {},
   "outputs": [],
   "source": [
    "db.processing.loc[db.catalog.isin(procats)] = 1"
   ]
  },
  {
   "cell_type": "code",
   "execution_count": 33,
   "id": "989adc75",
   "metadata": {},
   "outputs": [],
   "source": [
    "dbjson = {col: db[col].tolist() for col in db.columns}"
   ]
  },
  {
   "cell_type": "code",
   "execution_count": 34,
   "id": "d9e94ba1",
   "metadata": {},
   "outputs": [],
   "source": [
    "import json\n",
    "\n",
    "with open('/Users/damoncrockett/paperbase/src/assets/data/data.json', 'w') as json_file:\n",
    "    json.dump(dbjson, json_file)"
   ]
  }
 ],
 "metadata": {
  "kernelspec": {
   "display_name": "Python 3 (ipykernel)",
   "language": "python",
   "name": "python3"
  },
  "language_info": {
   "codemirror_mode": {
    "name": "ipython",
    "version": 3
   },
   "file_extension": ".py",
   "mimetype": "text/x-python",
   "name": "python",
   "nbconvert_exporter": "python",
   "pygments_lexer": "ipython3",
   "version": "3.10.4"
  }
 },
 "nbformat": 4,
 "nbformat_minor": 5
}
