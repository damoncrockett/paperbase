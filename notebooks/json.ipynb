{
 "cells": [
  {
   "cell_type": "code",
   "execution_count": 35,
   "id": "b6623b66",
   "metadata": {},
   "outputs": [],
   "source": [
    "import pandas as pd\n",
    "import sys\n",
    "sys.path.append(\"/Users/damoncrockett/ivpy/src\")\n",
    "from ivpy import *\n",
    "import warnings\n",
    "warnings.filterwarnings('ignore')"
   ]
  },
  {
   "cell_type": "code",
   "execution_count": 36,
   "id": "d87da6ce",
   "metadata": {},
   "outputs": [],
   "source": [
    "db = pd.read_pickle(\"/Users/damoncrockett/lmlproc/dbdfgepneural.pkl\")"
   ]
  },
  {
   "cell_type": "code",
   "execution_count": 37,
   "id": "6f29165c",
   "metadata": {},
   "outputs": [],
   "source": [
    "db.rename(columns={\"g60\":\"gloss\",\"ebins\":\"expressivenessGroup\",\"tbins\":\"isoGroup\"},inplace=True)"
   ]
  },
  {
   "cell_type": "code",
   "execution_count": 38,
   "id": "6dc3076c",
   "metadata": {},
   "outputs": [],
   "source": [
    "for i in db.index:\n",
    "    catalog = db.catalog.loc[i]\n",
    "    sb = db.sb.loc[i]\n",
    "    \n",
    "    if not sb:\n",
    "        for j,c in enumerate(catalog):\n",
    "            if c.isalpha():\n",
    "                newcatalog = f'{catalog[:j]}_{catalog[j:]}'\n",
    "                db.catalog.loc[i] = newcatalog\n",
    "                #print(f'Changed {catalog} to {newcatalog}')"
   ]
  },
  {
   "cell_type": "code",
   "execution_count": 39,
   "id": "95c38d1e",
   "metadata": {},
   "outputs": [],
   "source": [
    "pbcols = [\n",
    "    'catalog','man','bran','year','circa',\n",
    "    'surf','xword', 'gword', 'cword', 'tword',\n",
    "    'backp','postcard','toner','resin','sb','sbid','suffs',\n",
    "    'dmin', 'dmax', 'dminHex', 'dmaxHex', 'auc', 'roughness','gloss','thickness',\n",
    "    'expressiveness','radarGroup','expressivenessGroup','isoGroup',\n",
    "    'gep100','gep150','gep200','gep250','gep300','tmap'\n",
    "]"
   ]
  },
  {
   "cell_type": "code",
   "execution_count": 40,
   "id": "a43dc86c",
   "metadata": {},
   "outputs": [],
   "source": [
    "def whiten(s):\n",
    "    try:\n",
    "        if \"specified]\" in s or \"[Indeterminate]\" in s:\n",
    "            return ''\n",
    "        else:\n",
    "            return s\n",
    "    except:\n",
    "        return s"
   ]
  },
  {
   "cell_type": "code",
   "execution_count": 41,
   "id": "fd0a2c58",
   "metadata": {},
   "outputs": [],
   "source": [
    "db = db[pbcols].applymap(whiten)"
   ]
  },
  {
   "cell_type": "code",
   "execution_count": 42,
   "id": "422c013b",
   "metadata": {},
   "outputs": [],
   "source": [
    "db.rename(columns={\n",
    "    \"xword\":\"textureWord\",\n",
    "    \"gword\":\"glossWord\",\n",
    "    \"cword\":\"colorWord\",\n",
    "    \"tword\":\"thicknessWord\"\n",
    "},inplace=True)"
   ]
  },
  {
   "cell_type": "code",
   "execution_count": 43,
   "id": "c0142279",
   "metadata": {},
   "outputs": [],
   "source": [
    "import numpy as np"
   ]
  },
  {
   "cell_type": "code",
   "execution_count": 44,
   "id": "0f8cf501",
   "metadata": {},
   "outputs": [],
   "source": [
    "db.roughness = db.roughness.apply(lambda x: round(x,3))\n",
    "db.auc = db.auc.apply(lambda x: round(x,3))\n",
    "db.gloss = db.gloss.apply(lambda x: round(x,3))\n",
    "db.thickness = db.thickness.apply(lambda x: round(x,3))\n",
    "db.expressiveness = db.expressiveness.apply(lambda x: round(x,3))"
   ]
  },
  {
   "cell_type": "markdown",
   "id": "434ca129",
   "metadata": {},
   "source": [
    "# center GEP"
   ]
  },
  {
   "cell_type": "code",
   "execution_count": 45,
   "id": "6093e819",
   "metadata": {},
   "outputs": [],
   "source": [
    "fullrows = db.loc[db.radarGroup.notnull()].index"
   ]
  },
  {
   "cell_type": "code",
   "execution_count": 46,
   "id": "da66d32c",
   "metadata": {},
   "outputs": [],
   "source": [
    "def makeshift(l,xshift,yshift):\n",
    "    return [l[0]-xshift,l[1]-yshift,0]"
   ]
  },
  {
   "cell_type": "code",
   "execution_count": 47,
   "id": "05e5b102",
   "metadata": {},
   "outputs": [],
   "source": [
    "for spread_factor in [100,150,200,250,300]:\n",
    "    gepcol = f'gep{spread_factor}'\n",
    "    gepdf = db[gepcol].loc[fullrows]\n",
    "    \n",
    "    xrange = gepdf.apply(lambda x: x[0]).max() - gepdf.apply(lambda x: x[0]).min()\n",
    "    xshift = int(xrange/2)\n",
    "    \n",
    "    yrange = gepdf.apply(lambda x: x[1]).max() - gepdf.apply(lambda x: x[1]).min()\n",
    "    yshift = int(yrange/2)\n",
    "    \n",
    "    gepdf = gepdf.apply(lambda l: makeshift(l,xshift,yshift))\n",
    "    db[gepcol].loc[fullrows] = gepdf"
   ]
  },
  {
   "cell_type": "markdown",
   "id": "57a63804",
   "metadata": {},
   "source": [
    "# JSON"
   ]
  },
  {
   "cell_type": "code",
   "execution_count": 48,
   "id": "5dd2329f",
   "metadata": {},
   "outputs": [],
   "source": [
    "def fillrand(cell):\n",
    "    if isinstance(cell,list):\n",
    "        return cell\n",
    "    else:\n",
    "        return [\n",
    "            np.random.randint(200,500),\n",
    "            np.random.randint(200,500),\n",
    "            0\n",
    "        ]"
   ]
  },
  {
   "cell_type": "code",
   "execution_count": 49,
   "id": "b2150a50",
   "metadata": {},
   "outputs": [],
   "source": [
    "db[[c for c in db.columns if 'gep' in c]] = db[[c for c in db.columns if 'gep' in c]].applymap(fillrand)"
   ]
  },
  {
   "cell_type": "code",
   "execution_count": 50,
   "id": "dabf8cca",
   "metadata": {},
   "outputs": [],
   "source": [
    "db.tmap = db.tmap.apply(fillrand)"
   ]
  },
  {
   "cell_type": "code",
   "execution_count": 51,
   "id": "2cac8121",
   "metadata": {},
   "outputs": [],
   "source": [
    "db = db.fillna('')"
   ]
  },
  {
   "cell_type": "markdown",
   "id": "f2e17911",
   "metadata": {},
   "source": [
    "#### Has processing instructions"
   ]
  },
  {
   "cell_type": "code",
   "execution_count": 52,
   "id": "c6f286fd",
   "metadata": {},
   "outputs": [],
   "source": [
    "import glob,os"
   ]
  },
  {
   "cell_type": "code",
   "execution_count": 53,
   "id": "b0adeef1",
   "metadata": {},
   "outputs": [],
   "source": [
    "allproc = glob.glob(os.path.join(\"/Users/damoncrockett/paperbase/src/assets/img/processing/\",\"*.pdf\"))"
   ]
  },
  {
   "cell_type": "code",
   "execution_count": 54,
   "id": "4cb9d7cb",
   "metadata": {},
   "outputs": [],
   "source": [
    "procats = [os.path.basename(item)[:-4] for item in allproc]"
   ]
  },
  {
   "cell_type": "code",
   "execution_count": 55,
   "id": "47399be5",
   "metadata": {},
   "outputs": [],
   "source": [
    "db['processing'] = 0"
   ]
  },
  {
   "cell_type": "code",
   "execution_count": 56,
   "id": "3b02cedb",
   "metadata": {},
   "outputs": [],
   "source": [
    "db.processing.loc[db.catalog.isin(procats)] = 1"
   ]
  },
  {
   "cell_type": "code",
   "execution_count": 61,
   "id": "3381d4cd",
   "metadata": {},
   "outputs": [],
   "source": [
    "db[['circa','postcard','resin','sb','processing']] = db[['circa','postcard','resin','sb','processing']].applymap(str)"
   ]
  },
  {
   "cell_type": "code",
   "execution_count": 62,
   "id": "daffcb06",
   "metadata": {},
   "outputs": [],
   "source": [
    "dbjson = {col: db[col].tolist() for col in db.columns}"
   ]
  },
  {
   "cell_type": "code",
   "execution_count": 63,
   "id": "33f8deab",
   "metadata": {},
   "outputs": [],
   "source": [
    "import json\n",
    "\n",
    "with open('/Users/damoncrockett/paperbase/src/assets/data/data.json', 'w') as json_file:\n",
    "    json.dump(dbjson, json_file)"
   ]
  }
 ],
 "metadata": {
  "kernelspec": {
   "display_name": "Python 3 (ipykernel)",
   "language": "python",
   "name": "python3"
  },
  "language_info": {
   "codemirror_mode": {
    "name": "ipython",
    "version": 3
   },
   "file_extension": ".py",
   "mimetype": "text/x-python",
   "name": "python",
   "nbconvert_exporter": "python",
   "pygments_lexer": "ipython3",
   "version": "3.10.4"
  }
 },
 "nbformat": 4,
 "nbformat_minor": 5
}
