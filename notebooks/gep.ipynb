{
 "cells": [
  {
   "cell_type": "code",
   "execution_count": 1,
   "id": "56ce66f4",
   "metadata": {},
   "outputs": [],
   "source": [
    "import pandas as pd\n",
    "import os,sys\n",
    "sys.path.append(os.path.expanduser(\"~\") + \"/growingentourage\")\n",
    "from geometry import *\n",
    "sys.path.append(\"/Users/damoncrockett/ivpy/src\")\n",
    "from ivpy import *\n",
    "from ivpy.extract import norm\n",
    "import warnings\n",
    "warnings.filterwarnings('ignore')"
   ]
  },
  {
   "cell_type": "code",
   "execution_count": 2,
   "id": "27f31c8f",
   "metadata": {},
   "outputs": [],
   "source": [
    "df = pd.read_pickle('/Users/damoncrockett/lmlproc/dbdf.pkl')"
   ]
  },
  {
   "cell_type": "code",
   "execution_count": 3,
   "id": "7b1934c7",
   "metadata": {},
   "outputs": [],
   "source": [
    "df[['tnorm','gnorm','rnorm','cnorm']] = norm(df[['thickness','g60','roughness','dmin']])"
   ]
  },
  {
   "cell_type": "code",
   "execution_count": 4,
   "id": "39e5822c",
   "metadata": {},
   "outputs": [],
   "source": [
    "df.gnorm = df.gnorm.apply(lambda x: 1-x)"
   ]
  },
  {
   "cell_type": "code",
   "execution_count": 5,
   "id": "6e16fdaa",
   "metadata": {},
   "outputs": [],
   "source": [
    "df['expressiveness'] = df.tnorm + df.gnorm + df.rnorm + df.cnorm"
   ]
  },
  {
   "cell_type": "code",
   "execution_count": 6,
   "id": "33ef3920",
   "metadata": {},
   "outputs": [
    {
     "data": {
      "text/plain": [
       "388"
      ]
     },
     "execution_count": 6,
     "metadata": {},
     "output_type": "execute_result"
    }
   ],
   "source": [
    "len(df.loc[df[['thickness', 'g60', 'roughness', 'dmin']].isnull().all(axis=1)])"
   ]
  },
  {
   "cell_type": "markdown",
   "id": "f987f0af",
   "metadata": {},
   "source": [
    "# Bin edges"
   ]
  },
  {
   "cell_type": "code",
   "execution_count": 7,
   "id": "9868d9ba",
   "metadata": {},
   "outputs": [],
   "source": [
    "thickness = [0, 0.219, 0.399, 0.549, 1]\n",
    "gloss = [0, 19, 34, 71, 86, 101, 210]\n",
    "color = [-8, -0.02, 6.6, 11.97, 15.19, 22.98, 28.44, 37.31, 42]\n",
    "roughness = [0, 0.013, 0.03, 0.04, 0.055, 0.098, 0.116, 0.142, 0.18, 0.305, 0.4]\n",
    "expressiveness = [0, 1.3, 1.55, 1.85, 2.3, 2.6, 3, 4]"
   ]
  },
  {
   "cell_type": "code",
   "execution_count": 8,
   "id": "f96c8966",
   "metadata": {},
   "outputs": [],
   "source": [
    "df['tbins'] = pd.cut(df.thickness,bins=thickness,right=True,labels=False)\n",
    "df['gbins'] = pd.cut(df.g60,bins=gloss,right=True,labels=False)\n",
    "df['cbins'] = pd.cut(df.dmin,bins=color,right=True,labels=False)\n",
    "df['xbins'] = pd.cut(df.roughness,bins=roughness,right=True,labels=False)\n",
    "df['ebins'] = pd.cut(df.expressiveness,bins=expressiveness,right=True,labels=False)"
   ]
  },
  {
   "cell_type": "code",
   "execution_count": 9,
   "id": "45fc77da",
   "metadata": {},
   "outputs": [],
   "source": [
    "fullrows = df.loc[df[['thickness', 'g60', 'roughness', 'dmin']].notnull().all(axis=1)].index"
   ]
  },
  {
   "cell_type": "code",
   "execution_count": 10,
   "id": "fbe7114d",
   "metadata": {},
   "outputs": [],
   "source": [
    "def get_radar_group(df,i):\n",
    "    try:\n",
    "        t = int(df.tbins.loc[i])\n",
    "        g = int(df.gbins.loc[i])\n",
    "        c = int(df.cbins.loc[i])\n",
    "        x = int(df.xbins.loc[i])\n",
    "\n",
    "        return f'{t}_{g}_{c}_{x}'\n",
    "    except:\n",
    "        return None"
   ]
  },
  {
   "cell_type": "code",
   "execution_count": 11,
   "id": "7ae177d0",
   "metadata": {},
   "outputs": [],
   "source": [
    "df['radarGroup'] = [get_radar_group(df,i) for i in df.index]"
   ]
  },
  {
   "cell_type": "markdown",
   "id": "30ad607d",
   "metadata": {},
   "source": [
    "# GEP"
   ]
  },
  {
   "cell_type": "code",
   "execution_count": 12,
   "id": "4d4d8c40",
   "metadata": {},
   "outputs": [],
   "source": [
    "# clusterable = df.loc[df.radarGroup.notnull()].index\n",
    "# featcols = ['tnorm','gnorm','rnorm','cnorm']\n",
    "# clustercol = 'radarGroup'\n",
    "\n",
    "# plotting_frame, cluster_groups, centroids = get_plotting_frame(df.loc[clusterable], featcols, clustercol)"
   ]
  },
  {
   "cell_type": "code",
   "execution_count": 13,
   "id": "5f39e16e",
   "metadata": {},
   "outputs": [],
   "source": [
    "# subspace = get_subspace(centroids, cluster_groups)"
   ]
  },
  {
   "cell_type": "code",
   "execution_count": 14,
   "id": "c9bcb2c2",
   "metadata": {},
   "outputs": [],
   "source": [
    "# subspace = bin_subspace(subspace, cluster_groups, spread_factor = 3)"
   ]
  },
  {
   "cell_type": "code",
   "execution_count": 15,
   "id": "ab16eafe",
   "metadata": {},
   "outputs": [],
   "source": [
    "# pts = grow_entourages(plotting_frame, subspace)\n",
    "\n",
    "# plotting_frame['x'] = [item[0] for item in pts]\n",
    "# plotting_frame['y'] = [item[1] for item in pts]"
   ]
  },
  {
   "cell_type": "code",
   "execution_count": 16,
   "id": "7d643c3b",
   "metadata": {},
   "outputs": [],
   "source": [
    "# imagecol = 'cluster'\n",
    "\n",
    "# attach(plotting_frame, imagecol)\n",
    "\n",
    "# xrange = plotting_frame.x.max() - plotting_frame.x.min()\n",
    "# yrange = plotting_frame.y.max() - plotting_frame.y.min()\n",
    "\n",
    "# smaller_side = 400\n",
    "# side_ratio = max(xrange,yrange) / min(xrange,yrange)\n",
    "# larger_side = int(smaller_side * side_ratio)\n",
    "# if xrange > yrange:\n",
    "#     side1 = larger_side\n",
    "#     side2 = smaller_side\n",
    "# else:\n",
    "#     side2 = larger_side\n",
    "#     side1 = smaller_side\n",
    "\n",
    "# scatter('x','y',dot=True,thumb=1,side=(side1,side2)) "
   ]
  },
  {
   "cell_type": "code",
   "execution_count": 17,
   "id": "051778e7",
   "metadata": {},
   "outputs": [],
   "source": [
    "# df['gep300'] = plotting_frame.apply(lambda row: [row['y'], row['x']], axis=1)"
   ]
  },
  {
   "cell_type": "code",
   "execution_count": 18,
   "id": "c791c0a8",
   "metadata": {},
   "outputs": [],
   "source": [
    "# df.to_pickle('/Users/damoncrockett/lmlproc/dbdfgep.pkl')"
   ]
  },
  {
   "cell_type": "code",
   "execution_count": 20,
   "id": "0c3a5ec3",
   "metadata": {},
   "outputs": [],
   "source": [
    "dfo = pd.read_pickle('/Users/damoncrockett/lmlproc/dbdfgep.pkl')"
   ]
  },
  {
   "cell_type": "code",
   "execution_count": 24,
   "id": "2a1f78b1",
   "metadata": {},
   "outputs": [],
   "source": [
    "dfo = dfo[['catalog']+[item for item in dfo.columns if 'gep' in item]]"
   ]
  },
  {
   "cell_type": "code",
   "execution_count": 27,
   "id": "84559e80",
   "metadata": {},
   "outputs": [],
   "source": [
    "df = df.join(dfo.set_index('catalog'),'catalog')"
   ]
  },
  {
   "cell_type": "code",
   "execution_count": 28,
   "id": "9e8290d1",
   "metadata": {},
   "outputs": [],
   "source": [
    "df.to_pickle('/Users/damoncrockett/lmlproc/dbdfgep.pkl')"
   ]
  }
 ],
 "metadata": {
  "kernelspec": {
   "display_name": "Python 3 (ipykernel)",
   "language": "python",
   "name": "python3"
  },
  "language_info": {
   "codemirror_mode": {
    "name": "ipython",
    "version": 3
   },
   "file_extension": ".py",
   "mimetype": "text/x-python",
   "name": "python",
   "nbconvert_exporter": "python",
   "pygments_lexer": "ipython3",
   "version": "3.10.4"
  }
 },
 "nbformat": 4,
 "nbformat_minor": 5
}
