{
 "cells": [
  {
   "cell_type": "code",
   "execution_count": 1,
   "id": "37af25c9",
   "metadata": {},
   "outputs": [],
   "source": [
    "import pandas as pd\n",
    "import warnings\n",
    "warnings.filterwarnings('ignore')"
   ]
  },
  {
   "cell_type": "code",
   "execution_count": 2,
   "id": "00465bf9",
   "metadata": {},
   "outputs": [],
   "source": [
    "db = pd.read_csv(\"/Users/damoncrockett/Dropbox/lml/export_08_26_24.csv\", encoding='latin-1')"
   ]
  },
  {
   "cell_type": "code",
   "execution_count": 3,
   "id": "e070f06b",
   "metadata": {},
   "outputs": [
    {
     "data": {
      "text/plain": [
       "7245"
      ]
     },
     "execution_count": 3,
     "metadata": {},
     "output_type": "execute_result"
    }
   ],
   "source": [
    "len(db)"
   ]
  },
  {
   "cell_type": "code",
   "execution_count": 3,
   "id": "5895fb45",
   "metadata": {},
   "outputs": [],
   "source": [
    "db = db.loc[db.Omit_from_Paperbase==0]"
   ]
  },
  {
   "cell_type": "code",
   "execution_count": 4,
   "id": "4e1f2009",
   "metadata": {},
   "outputs": [
    {
     "data": {
      "text/plain": [
       "Sample book                     4509\n",
       "Not exposed - package open      1539\n",
       "Not exposed - package sealed     800\n",
       "Package only                     123\n",
       "Exposed - package open            47\n",
       "Name: Format, dtype: int64"
      ]
     },
     "execution_count": 4,
     "metadata": {},
     "output_type": "execute_result"
    }
   ],
   "source": [
    "db.Format.value_counts()"
   ]
  },
  {
   "cell_type": "code",
   "execution_count": 5,
   "id": "0649af4e",
   "metadata": {},
   "outputs": [],
   "source": [
    "keepcols = [\n",
    "    'Year','DateUncertain','Catalog Number','Secondary Catalog Number','Manufacturer','Brand',\n",
    "    'Texture2', 'Reflectance2', 'BaseColor2', 'Weight2','SurfaceDesignation2',\n",
    "    'Exposure','BackprintingPrimary','Postcards','Toner','Resin_coated?','ProcessName','Format','Size'\n",
    "]"
   ]
  },
  {
   "cell_type": "code",
   "execution_count": 6,
   "id": "b3698f49",
   "metadata": {},
   "outputs": [],
   "source": [
    "db = db[keepcols]\n",
    "db = db.fillna('')\n",
    "db['catalog'] = db['Catalog Number'].apply(str) + db['Secondary Catalog Number']"
   ]
  },
  {
   "cell_type": "code",
   "execution_count": 7,
   "id": "60c57a0c",
   "metadata": {},
   "outputs": [],
   "source": [
    "db.columns = [\n",
    "    'year','circa','cat','scat','man','bran','xword','gword','cword','tword','surf','expos',\n",
    "    'backp','postcard','toner','resin','photoprocess','forma','dims','catalog'\n",
    "]"
   ]
  },
  {
   "cell_type": "code",
   "execution_count": 8,
   "id": "38da1604",
   "metadata": {},
   "outputs": [],
   "source": [
    "db = db[['forma','catalog','cat','scat','man','bran','year','circa','surf','xword','gword','cword','tword','expos',\n",
    "    'backp','postcard','toner','resin','photoprocess','dims']]"
   ]
  },
  {
   "cell_type": "code",
   "execution_count": 9,
   "id": "ad4d21b8",
   "metadata": {},
   "outputs": [],
   "source": [
    "db.photoprocess = db.photoprocess.apply(lambda x: x.strip('\\t'))"
   ]
  },
  {
   "cell_type": "code",
   "execution_count": 10,
   "id": "1481d4a0",
   "metadata": {},
   "outputs": [],
   "source": [
    "db = db.loc[db.photoprocess=='gelatin silver process']"
   ]
  },
  {
   "cell_type": "code",
   "execution_count": 11,
   "id": "18dbf77a",
   "metadata": {},
   "outputs": [],
   "source": [
    "del db['photoprocess']"
   ]
  },
  {
   "cell_type": "code",
   "execution_count": 12,
   "id": "1993fd33",
   "metadata": {},
   "outputs": [],
   "source": [
    "db = db.reset_index(drop=True)"
   ]
  },
  {
   "cell_type": "code",
   "execution_count": 13,
   "id": "0f2b3fd0",
   "metadata": {},
   "outputs": [],
   "source": [
    "db.catalog.loc[db.catalog=='2631yy'] = ['2631xx','2631yy']\n",
    "db.cat = db.cat.apply(str)\n",
    "db.scat.loc[(db.cat=='2631')&(db.scat=='yy')] = ['xx','yy']"
   ]
  },
  {
   "cell_type": "code",
   "execution_count": 14,
   "id": "490d6ede",
   "metadata": {
    "scrolled": false
   },
   "outputs": [],
   "source": [
    "db.year.loc[db.cat=='5412'] = 1957"
   ]
  },
  {
   "cell_type": "code",
   "execution_count": 15,
   "id": "6bbacc2c",
   "metadata": {},
   "outputs": [],
   "source": [
    "db.catalog = db.catalog.apply(lambda x: x.lower())"
   ]
  },
  {
   "cell_type": "code",
   "execution_count": 16,
   "id": "3612ccda",
   "metadata": {},
   "outputs": [],
   "source": [
    "db.loc[len(db)] = pd.Series(['5616','Gevaert','[Indeterminate]','1950','5616','',1,\n",
    "                            '[not specified]','[texture unspecified]','[gloss unspecified]',\n",
    "                             '[base color unspecified]','[weight unspecified]',\n",
    "                            '','',0,'',0,'Not exposed - package open',''],\n",
    "                            index=['catalog','man','bran','year','cat','scat','circa',\n",
    "                                  'surf','xword','gword','cword','tword',\n",
    "                                  'expos','backp','postcard','toner','resin','forma','dims'])"
   ]
  },
  {
   "cell_type": "code",
   "execution_count": 17,
   "id": "3f443242",
   "metadata": {},
   "outputs": [],
   "source": [
    "db.loc[len(db)] = pd.Series(['286z','Ansco','Scona Reflex','1955',\n",
    "                             'Single Weight','Semi Matte','Smooth','286','z',1,'[not specified]',\n",
    "                             '[base color unspecified]',\n",
    "                            '','',0,'',0,'Sample book',''],\n",
    "                            index=['catalog','man','bran','year','tword','gword',\n",
    "                                   'xword','cat','scat','circa','surf','cword',\n",
    "                                  'expos','backp','postcard','toner','resin','forma','dims'])"
   ]
  },
  {
   "cell_type": "code",
   "execution_count": 18,
   "id": "0d25a12b",
   "metadata": {},
   "outputs": [],
   "source": [
    "db.catalog.loc[db.catalog.str.contains('_')] = db.catalog.loc[db.catalog.str.contains('_')].apply(lambda x: x.replace('_',''))"
   ]
  },
  {
   "cell_type": "code",
   "execution_count": 19,
   "id": "1b96582e",
   "metadata": {},
   "outputs": [],
   "source": [
    "db.expos.loc[db.catalog.isin(['5617','5618','5619'])] = ''"
   ]
  },
  {
   "cell_type": "markdown",
   "id": "c1638590",
   "metadata": {},
   "source": [
    "# sample type"
   ]
  },
  {
   "cell_type": "code",
   "execution_count": 20,
   "id": "f080ecbc",
   "metadata": {},
   "outputs": [],
   "source": [
    "iiif = pd.read_pickle(\"/Users/damoncrockett/lml2lux/notebooks/db.pkl\")"
   ]
  },
  {
   "cell_type": "code",
   "execution_count": 21,
   "id": "b29bd2a7",
   "metadata": {},
   "outputs": [
    {
     "data": {
      "text/plain": [
       "Index(['PhotoID', 'Year', 'DateUncertain', 'barecat',\n",
       "       'Secondary Catalog Number', 'Manufacturer', 'Brand', 'Format',\n",
       "       'Texture2', 'Reflectance2', 'BaseColor2', 'Weight2',\n",
       "       'SurfaceDesignation2', 'Omit_from_Paperbase', 'LocationBox',\n",
       "       'LocationBag', 'Exposure', 'BackprintingPrimary', 'Postcards', 'Toner',\n",
       "       'Resin_coated?', 'ProcessName', 'Link', 'AATA_ID', 'catalog', 'sb',\n",
       "       'imfile', 'fbase', 'imfiles', 'imfiles_type', 'imfiles_md5'],\n",
       "      dtype='object')"
      ]
     },
     "execution_count": 21,
     "metadata": {},
     "output_type": "execute_result"
    }
   ],
   "source": [
    "iiif.columns"
   ]
  },
  {
   "cell_type": "code",
   "execution_count": 22,
   "id": "674f48a6",
   "metadata": {},
   "outputs": [],
   "source": [
    "iiif = iiif[['catalog','sb','imfiles']]"
   ]
  },
  {
   "cell_type": "code",
   "execution_count": 23,
   "id": "5b7ff501",
   "metadata": {},
   "outputs": [],
   "source": [
    "iiif.catalog.loc[iiif.catalog.str.contains('_')] = iiif.catalog.loc[iiif.catalog.str.contains('_')].apply(lambda x: x.replace(\"_\",\"\"))"
   ]
  },
  {
   "cell_type": "code",
   "execution_count": 24,
   "id": "0f44cd95",
   "metadata": {},
   "outputs": [],
   "source": [
    "db = db.join(iiif.set_index('catalog'),'catalog')"
   ]
  },
  {
   "cell_type": "code",
   "execution_count": 25,
   "id": "6b81fe2b",
   "metadata": {},
   "outputs": [],
   "source": [
    "db.sb.loc[db.catalog=='286z'] = True"
   ]
  },
  {
   "cell_type": "code",
   "execution_count": 26,
   "id": "7225a2b8",
   "metadata": {},
   "outputs": [],
   "source": [
    "db.forma.loc[db.catalog.isin(['4148','4861'])] = \"unknown\""
   ]
  },
  {
   "cell_type": "code",
   "execution_count": 27,
   "id": "4e0ead71",
   "metadata": {},
   "outputs": [],
   "source": [
    "db.sb.loc[db.catalog.isin(['114','5616','5617','5618','5619'])] = False"
   ]
  },
  {
   "cell_type": "code",
   "execution_count": 28,
   "id": "15bc193f",
   "metadata": {},
   "outputs": [],
   "source": [
    "db.bran.loc[db.catalog=='17l'] = 'Rekord Rapid'"
   ]
  },
  {
   "cell_type": "code",
   "execution_count": 29,
   "id": "1f2e6ed2",
   "metadata": {},
   "outputs": [],
   "source": [
    "db.loc[len(db)] = pd.Series(['17q','Agfa Gevaert','Portriga Rapid','1974','17','q',0,\n",
    "                            '138','[texture unspecified]','[gloss unspecified]',\n",
    "                             '[base color unspecified]','[weight unspecified]',\n",
    "                            21.0,'A10',0,'',0,True,'Sample book','',['17_021.jpg']],\n",
    "                            index=['catalog','man','bran','year','cat','scat','circa',\n",
    "                                  'surf','xword','gword','cword','tword',\n",
    "                                  'expos','backp','postcard','toner','resin','sb','forma','dims','imfiles'])"
   ]
  },
  {
   "cell_type": "code",
   "execution_count": 30,
   "id": "aeb98211",
   "metadata": {},
   "outputs": [],
   "source": [
    "db.imfiles.loc[db.imfiles.isnull()] = ''"
   ]
  },
  {
   "cell_type": "code",
   "execution_count": 31,
   "id": "201e8ff2",
   "metadata": {},
   "outputs": [],
   "source": [
    "def makelist(e):\n",
    "    if isinstance(e,list):\n",
    "        return e\n",
    "    elif isinstance(e,str):\n",
    "        return [e]"
   ]
  },
  {
   "cell_type": "code",
   "execution_count": 32,
   "id": "745acd05",
   "metadata": {},
   "outputs": [],
   "source": [
    "db.imfiles = db.imfiles.apply(makelist)"
   ]
  },
  {
   "cell_type": "code",
   "execution_count": 33,
   "id": "dc2b95d1",
   "metadata": {},
   "outputs": [],
   "source": [
    "def get_sbid(db,i):\n",
    "    sb = db.sb.loc[i]\n",
    "    if sb:\n",
    "        return db.cat.loc[i]\n",
    "    else:\n",
    "        return ''"
   ]
  },
  {
   "cell_type": "code",
   "execution_count": 34,
   "id": "d6a26b0b",
   "metadata": {},
   "outputs": [],
   "source": [
    "def get_paper_type(db,i):\n",
    "    man = db.man.loc[i]\n",
    "    bran = db.bran.loc[i]\n",
    "    year = db.year.loc[i]\n",
    "    surf = db.surf.loc[i]\n",
    "    xword = db.xword.loc[i]\n",
    "    gword = db.gword.loc[i]\n",
    "    cword = db.cword.loc[i]\n",
    "    tword = db.tword.loc[i]\n",
    "    \n",
    "    return f'{man} {bran} {year} {surf} {xword} {gword} {cword} {tword}'"
   ]
  },
  {
   "cell_type": "code",
   "execution_count": 35,
   "id": "82ac050b",
   "metadata": {},
   "outputs": [],
   "source": [
    "db.expos.loc[db.sb==False] = ''"
   ]
  },
  {
   "cell_type": "code",
   "execution_count": 36,
   "id": "8a6ddfd7",
   "metadata": {},
   "outputs": [],
   "source": [
    "db['sbid'] = [get_sbid(db,i) for i in db.index]"
   ]
  },
  {
   "cell_type": "code",
   "execution_count": 37,
   "id": "d2c8b680",
   "metadata": {},
   "outputs": [],
   "source": [
    "db['pid'] = [get_paper_type(db,i) for i in db.index]"
   ]
  },
  {
   "cell_type": "code",
   "execution_count": 38,
   "id": "dc117114",
   "metadata": {},
   "outputs": [],
   "source": [
    "db = db.sort_values(['cat','scat'])\n",
    "db = db.reset_index(drop=True)"
   ]
  },
  {
   "cell_type": "code",
   "execution_count": 39,
   "id": "62e312c3",
   "metadata": {},
   "outputs": [],
   "source": [
    "db.sb = db.sb.apply(int)"
   ]
  },
  {
   "cell_type": "code",
   "execution_count": 40,
   "id": "1b39851c",
   "metadata": {},
   "outputs": [],
   "source": [
    "db.sb.loc[db.cat=='3194'] = 1\n",
    "db.sb.loc[db.cat=='5440'] = 1"
   ]
  },
  {
   "cell_type": "markdown",
   "id": "1b43289f",
   "metadata": {},
   "source": [
    "# Images"
   ]
  },
  {
   "cell_type": "code",
   "execution_count": 41,
   "id": "3c1209ca",
   "metadata": {},
   "outputs": [],
   "source": [
    "from PIL import Image"
   ]
  },
  {
   "cell_type": "code",
   "execution_count": 42,
   "id": "28b9d911",
   "metadata": {},
   "outputs": [],
   "source": [
    "# for i in db.index:\n",
    "#     sb = db.sb.loc[i]\n",
    "#     imfiles = db.imfiles.loc[i]\n",
    "#     for imfile in imfiles:\n",
    "#         try:\n",
    "#             if sb:\n",
    "#                 Image.open(f'/Users/damoncrockett/paperbase/src/assets/img/samplebooks/{imfile}')\n",
    "#             else:\n",
    "#                 Image.open(f'/Users/damoncrockett/paperbase/src/assets/img/packages/{imfile}')\n",
    "#         except:\n",
    "#             print(i,imfiles)"
   ]
  },
  {
   "cell_type": "markdown",
   "id": "733ec3f6",
   "metadata": {},
   "source": [
    "#### samplebooks"
   ]
  },
  {
   "cell_type": "markdown",
   "id": "fa3f31de",
   "metadata": {},
   "source": [
    "We want an image for every sample, and this means there will be duplicate images with different filenames."
   ]
  },
  {
   "cell_type": "code",
   "execution_count": 43,
   "id": "6e731d7f",
   "metadata": {},
   "outputs": [],
   "source": [
    "import shutil"
   ]
  },
  {
   "cell_type": "code",
   "execution_count": 44,
   "id": "4a6d6310",
   "metadata": {},
   "outputs": [],
   "source": [
    "# for i in db.index:\n",
    "#     sb = db.sb.loc[i]\n",
    "#     catalog = db.catalog.loc[i]\n",
    "#     if sb:\n",
    "#         imfiles = db.imfiles.loc[i]\n",
    "#         imfile = imfiles[0] # only one case of multiple images, verso of a single sample print\n",
    "#         imfilepath = f'/Users/damoncrockett/paperbase/src/assets/img/samplebooks_expos/{imfile}'\n",
    "#         try:\n",
    "#             Image.open(imfilepath)\n",
    "#             newimfile = f'{catalog}.jpg'\n",
    "#             shutil.copy(imfilepath,f'/Users/damoncrockett/paperbase/src/assets/img/samplebooks/{newimfile}')\n",
    "#         except:\n",
    "#             print(catalog)"
   ]
  },
  {
   "cell_type": "markdown",
   "id": "d110f67c",
   "metadata": {},
   "source": [
    "#### packages"
   ]
  },
  {
   "cell_type": "code",
   "execution_count": 45,
   "id": "aa293771",
   "metadata": {},
   "outputs": [],
   "source": [
    "import os"
   ]
  },
  {
   "cell_type": "markdown",
   "id": "0d6f78db",
   "metadata": {},
   "source": [
    "We just want a simple list of the suffixes, if there are any."
   ]
  },
  {
   "cell_type": "code",
   "execution_count": 46,
   "id": "ae3bd21f",
   "metadata": {},
   "outputs": [],
   "source": [
    "suffstrs = []\n",
    "for i in db.index:\n",
    "    sb = db.sb.loc[i]\n",
    "    catalog = db.catalog.loc[i]\n",
    "    if sb:\n",
    "        suffstrs.append('')\n",
    "        continue\n",
    "    else:\n",
    "        imfiles = db.imfiles.loc[i]\n",
    "        suffs = []\n",
    "        for imfile in imfiles:\n",
    "            fbase = os.path.splitext(imfile)[0]\n",
    "            for j,c in enumerate(fbase):\n",
    "                if c.isdigit():\n",
    "                    continue\n",
    "                else:\n",
    "                    suff = fbase[j:]\n",
    "                    suffs.append(suff)\n",
    "                    break\n",
    "        if len(suffs) > 0:\n",
    "            suffstr = '|'.join([item for item in suffs])\n",
    "        else:\n",
    "            suffstr = ''\n",
    "    suffstrs.append(suffstr)"
   ]
  },
  {
   "cell_type": "code",
   "execution_count": 47,
   "id": "94d4e984",
   "metadata": {},
   "outputs": [],
   "source": [
    "db['suffs'] = suffstrs"
   ]
  },
  {
   "cell_type": "code",
   "execution_count": 48,
   "id": "0f274723",
   "metadata": {},
   "outputs": [],
   "source": [
    "db.to_pickle('/Users/damoncrockett/lmlproc/db.pkl')"
   ]
  },
  {
   "cell_type": "code",
   "execution_count": 49,
   "id": "b589e0bf",
   "metadata": {},
   "outputs": [],
   "source": [
    "# DO\n",
    "# all image assets f'{dir}/{catalog}.jpg' [pkg,sb,backp,procinstruct,texture]\n",
    "# sync LUX stuff\n",
    "# sample_type\n",
    "# decide whether to eliminate more rows\n",
    "# sample book identity (combo of cat and sample_type, I guess)\n",
    "# man/bran/year/surface groups"
   ]
  }
 ],
 "metadata": {
  "kernelspec": {
   "display_name": "Python 3 (ipykernel)",
   "language": "python",
   "name": "python3"
  },
  "language_info": {
   "codemirror_mode": {
    "name": "ipython",
    "version": 3
   },
   "file_extension": ".py",
   "mimetype": "text/x-python",
   "name": "python",
   "nbconvert_exporter": "python",
   "pygments_lexer": "ipython3",
   "version": "3.10.4"
  }
 },
 "nbformat": 4,
 "nbformat_minor": 5
}
