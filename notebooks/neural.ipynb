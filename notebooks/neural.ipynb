{
 "cells": [
  {
   "cell_type": "code",
   "execution_count": 1,
   "id": "49d79223",
   "metadata": {},
   "outputs": [],
   "source": [
    "import pandas as pd\n",
    "import sys\n",
    "sys.path.append(\"/Users/damoncrockett/ivpy/src\")\n",
    "from ivpy import *\n",
    "from ivpy.extract import extract\n",
    "from PIL import Image"
   ]
  },
  {
   "cell_type": "code",
   "execution_count": 2,
   "id": "51f60404",
   "metadata": {},
   "outputs": [],
   "source": [
    "df = pd.read_pickle('/Users/damoncrockett/lmlproc/dbdfgep.pkl')"
   ]
  },
  {
   "cell_type": "code",
   "execution_count": 3,
   "id": "ca0760bf",
   "metadata": {},
   "outputs": [],
   "source": [
    "roughs = df.loc[df.roughness.notnull()].index"
   ]
  },
  {
   "cell_type": "code",
   "execution_count": 4,
   "id": "39707cc7",
   "metadata": {},
   "outputs": [],
   "source": [
    "df['impath'] = [f'/Users/damoncrockett/paperbase/src/assets/img/texture/{c}.jpg' for c in df.catalog]"
   ]
  },
  {
   "cell_type": "code",
   "execution_count": 5,
   "id": "388ec8f3",
   "metadata": {},
   "outputs": [],
   "source": [
    "#show(pathcol=df.impath.loc[roughs],thumb=8)"
   ]
  },
  {
   "cell_type": "code",
   "execution_count": 6,
   "id": "8b045298",
   "metadata": {},
   "outputs": [],
   "source": [
    "# sizes = []\n",
    "# for i in df.index:\n",
    "#     if i not in roughs:\n",
    "#         sizes.append(None)\n",
    "#     else:\n",
    "#         im = Image.open(df.impath.loc[i])\n",
    "#         sizes.append(im.size)"
   ]
  },
  {
   "cell_type": "code",
   "execution_count": 7,
   "id": "87437963",
   "metadata": {},
   "outputs": [],
   "source": [
    "# df['imsize'] = sizes"
   ]
  },
  {
   "cell_type": "code",
   "execution_count": 8,
   "id": "19eccc03",
   "metadata": {},
   "outputs": [],
   "source": [
    "# df['stdsize'] = df.imsize == (2448, 2048)"
   ]
  },
  {
   "cell_type": "code",
   "execution_count": 9,
   "id": "a7c7a483",
   "metadata": {},
   "outputs": [],
   "source": [
    "# tups = list(df.loc[roughs].loc[df.stdsize==False].imsize.unique())"
   ]
  },
  {
   "cell_type": "code",
   "execution_count": 10,
   "id": "5c7d41b8",
   "metadata": {},
   "outputs": [],
   "source": [
    "# min([min(item) for item in tups])"
   ]
  },
  {
   "cell_type": "code",
   "execution_count": 11,
   "id": "7b714456",
   "metadata": {},
   "outputs": [],
   "source": [
    "# for item in tups:\n",
    "#     if item[0]!=item[1]:\n",
    "#         print(item)"
   ]
  },
  {
   "cell_type": "code",
   "execution_count": 12,
   "id": "10546320",
   "metadata": {},
   "outputs": [],
   "source": [
    "def center_crop_image(image):\n",
    "    # Calculate the center crop dimensions\n",
    "    width, height = image.size\n",
    "    new_width = 1016\n",
    "    new_height = 1016\n",
    "    \n",
    "    left = (width - new_width)/2\n",
    "    top = (height - new_height)/2\n",
    "    right = (width + new_width)/2\n",
    "    bottom = (height + new_height)/2\n",
    "    \n",
    "    # Crop the center of the image\n",
    "    cropped_image = image.crop((left, top, right, bottom))\n",
    "    return cropped_image"
   ]
  },
  {
   "cell_type": "code",
   "execution_count": 13,
   "id": "789345d7",
   "metadata": {},
   "outputs": [],
   "source": [
    "import os"
   ]
  },
  {
   "cell_type": "code",
   "execution_count": 14,
   "id": "3efed5a2",
   "metadata": {},
   "outputs": [],
   "source": [
    "# CROPDIR = \"/Users/damoncrockett/paperbase/src/assets/neuralcrops/\""
   ]
  },
  {
   "cell_type": "code",
   "execution_count": 15,
   "id": "7a0d3f6c",
   "metadata": {},
   "outputs": [],
   "source": [
    "# for i in df.index:\n",
    "#     if i in roughs:\n",
    "#         impath = df.impath.loc[i]\n",
    "#         im = Image.open(impath)\n",
    "#         imcrop = center_crop_image(im)\n",
    "#         fbase = os.path.basename(impath)\n",
    "#         newpath = f'{CROPDIR}{fbase}'\n",
    "#         imcrop.save(newpath)"
   ]
  },
  {
   "cell_type": "code",
   "execution_count": 16,
   "id": "5d2da284",
   "metadata": {},
   "outputs": [],
   "source": [
    "# df['croppaths'] = [f'{CROPDIR}{df.catalog.loc[i]}.jpg' if i in roughs else None for i in df.index]"
   ]
  },
  {
   "cell_type": "code",
   "execution_count": 17,
   "id": "56c8a0b4",
   "metadata": {},
   "outputs": [],
   "source": [
    "#montage(df.croppaths.loc[roughs],thumb=16,shape='rect')"
   ]
  },
  {
   "cell_type": "code",
   "execution_count": 18,
   "id": "b2d56b7f",
   "metadata": {},
   "outputs": [],
   "source": [
    "BWDIR = \"/Users/damoncrockett/paperbase/src/assets/neuralcropsbw/\""
   ]
  },
  {
   "cell_type": "code",
   "execution_count": 19,
   "id": "7c39e956",
   "metadata": {},
   "outputs": [],
   "source": [
    "def desaturate_image(image):\n",
    "    grayscale_image = image.convert('L')\n",
    "    return grayscale_image"
   ]
  },
  {
   "cell_type": "code",
   "execution_count": 20,
   "id": "f56955c1",
   "metadata": {},
   "outputs": [],
   "source": [
    "# for i in df.index:\n",
    "#     if i in roughs:\n",
    "#         impath = df.croppaths.loc[i]\n",
    "#         im = Image.open(impath)\n",
    "#         imbw = desaturate_image(im)\n",
    "#         fbase = os.path.basename(impath)\n",
    "#         newpath = f'{BWDIR}{fbase}'\n",
    "#         imbw.save(newpath)"
   ]
  },
  {
   "cell_type": "code",
   "execution_count": 21,
   "id": "ffcbf39b",
   "metadata": {},
   "outputs": [],
   "source": [
    "df['bwpaths'] = [f'{BWDIR}{df.catalog.loc[i]}.jpg' if i in roughs else None for i in df.index]"
   ]
  },
  {
   "cell_type": "code",
   "execution_count": 22,
   "id": "b603783f",
   "metadata": {},
   "outputs": [],
   "source": [
    "#montage(df.bwpaths.loc[roughs],thumb=16,shape='rect')"
   ]
  },
  {
   "cell_type": "code",
   "execution_count": 23,
   "id": "17560f49",
   "metadata": {},
   "outputs": [],
   "source": [
    "attach(df,'bwpaths')"
   ]
  },
  {
   "cell_type": "code",
   "execution_count": 24,
   "id": "6c1bdcf0",
   "metadata": {},
   "outputs": [],
   "source": [
    "# df.to_pickle('neural.pkl')"
   ]
  },
  {
   "cell_type": "code",
   "execution_count": 28,
   "id": "e79a4c20",
   "metadata": {
    "scrolled": true
   },
   "outputs": [],
   "source": [
    "#X = extract('neural',verbose=False)"
   ]
  },
  {
   "cell_type": "code",
   "execution_count": 37,
   "id": "03ed779c",
   "metadata": {},
   "outputs": [],
   "source": [
    "#X = X.applymap(lambda x: float(x) if x is not None else x)"
   ]
  },
  {
   "cell_type": "code",
   "execution_count": 36,
   "id": "92b5a58a",
   "metadata": {},
   "outputs": [],
   "source": [
    "#X.to_pickle('X.pkl')"
   ]
  },
  {
   "cell_type": "markdown",
   "id": "185da18f",
   "metadata": {},
   "source": [
    "# t-SNE"
   ]
  },
  {
   "cell_type": "code",
   "execution_count": 39,
   "id": "e81158e7",
   "metadata": {},
   "outputs": [
    {
     "name": "stderr",
     "output_type": "stream",
     "text": [
      "/Users/damoncrockett/lm/lib/python3.10/site-packages/tqdm/auto.py:22: TqdmWarning: IProgress not found. Please update jupyter and ipywidgets. See https://ipywidgets.readthedocs.io/en/stable/user_install.html\n",
      "  from .autonotebook import tqdm as notebook_tqdm\n"
     ]
    }
   ],
   "source": [
    "from ivpy.reduce import tsne"
   ]
  },
  {
   "cell_type": "code",
   "execution_count": 47,
   "id": "56487877",
   "metadata": {},
   "outputs": [],
   "source": [
    "#df[['x','y']] = tsne(X.loc[roughs], init='pca')"
   ]
  },
  {
   "cell_type": "code",
   "execution_count": 48,
   "id": "7efda154",
   "metadata": {},
   "outputs": [],
   "source": [
    "# attach(df,'bwpaths')\n",
    "# scatter('x','y',thumb=128,side=9000).save('/Users/damoncrockett/Desktop/xtsne.jpg')"
   ]
  },
  {
   "cell_type": "code",
   "execution_count": 57,
   "id": "c0bff158",
   "metadata": {},
   "outputs": [],
   "source": [
    "df['xbin'] = pd.cut(df.x,bins=100,labels=False)\n",
    "df['ybin'] = pd.cut(df.y,bins=100,labels=False)"
   ]
  },
  {
   "cell_type": "code",
   "execution_count": 59,
   "id": "48a37c17",
   "metadata": {},
   "outputs": [],
   "source": [
    "df.xbin = df.xbin.apply(lambda x: x-50)\n",
    "df.ybin = df.ybin.apply(lambda x: x-50)"
   ]
  },
  {
   "cell_type": "code",
   "execution_count": 62,
   "id": "28eee495",
   "metadata": {},
   "outputs": [],
   "source": [
    "#df.to_pickle('dftsnebins.pkl')"
   ]
  },
  {
   "cell_type": "code",
   "execution_count": 65,
   "id": "d7527433",
   "metadata": {},
   "outputs": [],
   "source": [
    "del df['impath']\n",
    "del df['bwpaths']\n",
    "del df['x']\n",
    "del df['y']"
   ]
  },
  {
   "cell_type": "code",
   "execution_count": 70,
   "id": "8158a964",
   "metadata": {},
   "outputs": [],
   "source": [
    "df['tsne'] = df.apply(lambda row: [row['xbin'], row['ybin']] if not pd.isna(row['xbin']) else None, axis=1)"
   ]
  },
  {
   "cell_type": "code",
   "execution_count": 72,
   "id": "9d50aea0",
   "metadata": {},
   "outputs": [],
   "source": [
    "del df['xbin']\n",
    "del df['ybin']"
   ]
  },
  {
   "cell_type": "code",
   "execution_count": 76,
   "id": "cbb2fa1d",
   "metadata": {},
   "outputs": [],
   "source": [
    "df['tsne'] = df['tsne'].apply(lambda x: tuple(x) if isinstance(x,list) else x)"
   ]
  },
  {
   "cell_type": "code",
   "execution_count": 82,
   "id": "8a338eb0",
   "metadata": {},
   "outputs": [],
   "source": [
    "df = df.sort_values('tsne')"
   ]
  },
  {
   "cell_type": "code",
   "execution_count": 98,
   "id": "419aeb1a",
   "metadata": {},
   "outputs": [],
   "source": [
    "df['z'] = df.groupby('tsne').cumcount()"
   ]
  },
  {
   "cell_type": "code",
   "execution_count": 100,
   "id": "8da337d8",
   "metadata": {},
   "outputs": [],
   "source": [
    "df['tsne'] = df['tsne'].apply(lambda x: list(x) if isinstance(x,tuple) else x)"
   ]
  },
  {
   "cell_type": "code",
   "execution_count": 105,
   "id": "81bbb9e3",
   "metadata": {},
   "outputs": [],
   "source": [
    "df['tmap'] = df.apply(lambda row: [row['tsne'][0], row['tsne'][1], row['z']] if isinstance(row['tsne'],list) else None,\n",
    "        axis=1)"
   ]
  },
  {
   "cell_type": "code",
   "execution_count": 107,
   "id": "d68b59d8",
   "metadata": {},
   "outputs": [],
   "source": [
    "del df['tsne']\n",
    "del df['z']"
   ]
  },
  {
   "cell_type": "code",
   "execution_count": 108,
   "id": "26e82cc6",
   "metadata": {},
   "outputs": [],
   "source": [
    "df.to_pickle('/Users/damoncrockett/lmlproc/dbdfgepneural.pkl')"
   ]
  }
 ],
 "metadata": {
  "kernelspec": {
   "display_name": "Python 3 (ipykernel)",
   "language": "python",
   "name": "python3"
  },
  "language_info": {
   "codemirror_mode": {
    "name": "ipython",
    "version": 3
   },
   "file_extension": ".py",
   "mimetype": "text/x-python",
   "name": "python",
   "nbconvert_exporter": "python",
   "pygments_lexer": "ipython3",
   "version": "3.10.4"
  }
 },
 "nbformat": 4,
 "nbformat_minor": 5
}
