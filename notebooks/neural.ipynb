{
 "cells": [
  {
   "cell_type": "code",
   "execution_count": 1,
   "id": "aabdf935",
   "metadata": {},
   "outputs": [],
   "source": [
    "import pandas as pd\n",
    "import sys\n",
    "sys.path.append(\"/Users/damoncrockett/ivpy/src\")\n",
    "from ivpy import *\n",
    "from ivpy.extract import extract\n",
    "from PIL import Image"
   ]
  },
  {
   "cell_type": "code",
   "execution_count": 2,
   "id": "f756f837",
   "metadata": {},
   "outputs": [],
   "source": [
    "df = pd.read_pickle('/Users/damoncrockett/lmlproc/dbdfgep.pkl')"
   ]
  },
  {
   "cell_type": "code",
   "execution_count": 3,
   "id": "fc9a5209",
   "metadata": {},
   "outputs": [],
   "source": [
    "roughs = df.loc[df.roughness.notnull()].index"
   ]
  },
  {
   "cell_type": "code",
   "execution_count": 4,
   "id": "b851c2ea",
   "metadata": {},
   "outputs": [],
   "source": [
    "df['impath'] = [f'/Users/damoncrockett/paperbase/src/assets/img/texture/{c}.jpg' for c in df.catalog]"
   ]
  },
  {
   "cell_type": "code",
   "execution_count": 5,
   "id": "e6bdc501",
   "metadata": {},
   "outputs": [],
   "source": [
    "#show(pathcol=df.impath.loc[roughs],thumb=8)"
   ]
  },
  {
   "cell_type": "code",
   "execution_count": 6,
   "id": "98b3884d",
   "metadata": {},
   "outputs": [],
   "source": [
    "# sizes = []\n",
    "# for i in df.index:\n",
    "#     if i not in roughs:\n",
    "#         sizes.append(None)\n",
    "#     else:\n",
    "#         im = Image.open(df.impath.loc[i])\n",
    "#         sizes.append(im.size)"
   ]
  },
  {
   "cell_type": "code",
   "execution_count": 7,
   "id": "92c97754",
   "metadata": {},
   "outputs": [],
   "source": [
    "# df['imsize'] = sizes"
   ]
  },
  {
   "cell_type": "code",
   "execution_count": 8,
   "id": "320a14c4",
   "metadata": {},
   "outputs": [],
   "source": [
    "# df['stdsize'] = df.imsize == (2448, 2048)"
   ]
  },
  {
   "cell_type": "code",
   "execution_count": 9,
   "id": "4e12c654",
   "metadata": {},
   "outputs": [],
   "source": [
    "# tups = list(df.loc[roughs].loc[df.stdsize==False].imsize.unique())"
   ]
  },
  {
   "cell_type": "code",
   "execution_count": 10,
   "id": "a470bc80",
   "metadata": {},
   "outputs": [],
   "source": [
    "# min([min(item) for item in tups])"
   ]
  },
  {
   "cell_type": "code",
   "execution_count": 11,
   "id": "7e854a5b",
   "metadata": {},
   "outputs": [],
   "source": [
    "# for item in tups:\n",
    "#     if item[0]!=item[1]:\n",
    "#         print(item)"
   ]
  },
  {
   "cell_type": "code",
   "execution_count": 12,
   "id": "dca596f2",
   "metadata": {},
   "outputs": [],
   "source": [
    "def center_crop_image(image):\n",
    "    # Calculate the center crop dimensions\n",
    "    width, height = image.size\n",
    "    new_width = 1016\n",
    "    new_height = 1016\n",
    "    \n",
    "    left = (width - new_width)/2\n",
    "    top = (height - new_height)/2\n",
    "    right = (width + new_width)/2\n",
    "    bottom = (height + new_height)/2\n",
    "    \n",
    "    # Crop the center of the image\n",
    "    cropped_image = image.crop((left, top, right, bottom))\n",
    "    return cropped_image"
   ]
  },
  {
   "cell_type": "code",
   "execution_count": 13,
   "id": "4223a88b",
   "metadata": {},
   "outputs": [],
   "source": [
    "import os"
   ]
  },
  {
   "cell_type": "code",
   "execution_count": 14,
   "id": "65aa74cf",
   "metadata": {},
   "outputs": [],
   "source": [
    "# CROPDIR = \"/Users/damoncrockett/paperbase/src/assets/neuralcrops/\""
   ]
  },
  {
   "cell_type": "code",
   "execution_count": 15,
   "id": "c7241819",
   "metadata": {},
   "outputs": [],
   "source": [
    "# for i in df.index:\n",
    "#     if i in roughs:\n",
    "#         impath = df.impath.loc[i]\n",
    "#         im = Image.open(impath)\n",
    "#         imcrop = center_crop_image(im)\n",
    "#         fbase = os.path.basename(impath)\n",
    "#         newpath = f'{CROPDIR}{fbase}'\n",
    "#         imcrop.save(newpath)"
   ]
  },
  {
   "cell_type": "code",
   "execution_count": 16,
   "id": "f0f62e8d",
   "metadata": {},
   "outputs": [],
   "source": [
    "# df['croppaths'] = [f'{CROPDIR}{df.catalog.loc[i]}.jpg' if i in roughs else None for i in df.index]"
   ]
  },
  {
   "cell_type": "code",
   "execution_count": 17,
   "id": "8ff5225f",
   "metadata": {},
   "outputs": [],
   "source": [
    "#montage(df.croppaths.loc[roughs],thumb=16,shape='rect')"
   ]
  },
  {
   "cell_type": "code",
   "execution_count": 18,
   "id": "db138ff6",
   "metadata": {},
   "outputs": [],
   "source": [
    "BWDIR = \"/Users/damoncrockett/paperbase/src/assets/neuralcropsbw/\""
   ]
  },
  {
   "cell_type": "code",
   "execution_count": 19,
   "id": "cfc0c362",
   "metadata": {},
   "outputs": [],
   "source": [
    "def desaturate_image(image):\n",
    "    grayscale_image = image.convert('L')\n",
    "    return grayscale_image"
   ]
  },
  {
   "cell_type": "code",
   "execution_count": 20,
   "id": "a1ac9229",
   "metadata": {},
   "outputs": [],
   "source": [
    "# for i in df.index:\n",
    "#     if i in roughs:\n",
    "#         impath = df.croppaths.loc[i]\n",
    "#         im = Image.open(impath)\n",
    "#         imbw = desaturate_image(im)\n",
    "#         fbase = os.path.basename(impath)\n",
    "#         newpath = f'{BWDIR}{fbase}'\n",
    "#         imbw.save(newpath)"
   ]
  },
  {
   "cell_type": "code",
   "execution_count": 21,
   "id": "837d006c",
   "metadata": {},
   "outputs": [],
   "source": [
    "df['bwpaths'] = [f'{BWDIR}{df.catalog.loc[i]}.jpg' if i in roughs else None for i in df.index]"
   ]
  },
  {
   "cell_type": "code",
   "execution_count": 22,
   "id": "f83be43a",
   "metadata": {},
   "outputs": [],
   "source": [
    "#montage(df.bwpaths.loc[roughs],thumb=16,shape='rect')"
   ]
  },
  {
   "cell_type": "code",
   "execution_count": 23,
   "id": "b8d2989a",
   "metadata": {},
   "outputs": [],
   "source": [
    "attach(df,'bwpaths')"
   ]
  },
  {
   "cell_type": "code",
   "execution_count": 24,
   "id": "9557af91",
   "metadata": {},
   "outputs": [],
   "source": [
    "# df.to_pickle('neural.pkl')"
   ]
  },
  {
   "cell_type": "code",
   "execution_count": 25,
   "id": "2fc17be4",
   "metadata": {
    "scrolled": true
   },
   "outputs": [],
   "source": [
    "#X = extract('neural',verbose=False)"
   ]
  },
  {
   "cell_type": "code",
   "execution_count": 26,
   "id": "baa4af60",
   "metadata": {},
   "outputs": [],
   "source": [
    "#X = X.applymap(lambda x: float(x) if x is not None else x)"
   ]
  },
  {
   "cell_type": "code",
   "execution_count": 27,
   "id": "6804ec08",
   "metadata": {},
   "outputs": [],
   "source": [
    "#X.to_pickle('X.pkl')"
   ]
  },
  {
   "cell_type": "markdown",
   "id": "c07844d6",
   "metadata": {},
   "source": [
    "# t-SNE"
   ]
  },
  {
   "cell_type": "code",
   "execution_count": 28,
   "id": "094f7ce2",
   "metadata": {},
   "outputs": [
    {
     "name": "stderr",
     "output_type": "stream",
     "text": [
      "/Users/damoncrockett/lm/lib/python3.10/site-packages/tqdm/auto.py:22: TqdmWarning: IProgress not found. Please update jupyter and ipywidgets. See https://ipywidgets.readthedocs.io/en/stable/user_install.html\n",
      "  from .autonotebook import tqdm as notebook_tqdm\n"
     ]
    }
   ],
   "source": [
    "from ivpy.reduce import tsne"
   ]
  },
  {
   "cell_type": "code",
   "execution_count": 29,
   "id": "deb8eb42",
   "metadata": {},
   "outputs": [],
   "source": [
    "#df[['x','y']] = tsne(X.loc[roughs], init='pca')"
   ]
  },
  {
   "cell_type": "code",
   "execution_count": 30,
   "id": "a8301f64",
   "metadata": {},
   "outputs": [],
   "source": [
    "# attach(df,'bwpaths')\n",
    "# scatter('x','y',thumb=128,side=9000).save('/Users/damoncrockett/Desktop/xtsne.jpg')"
   ]
  },
  {
   "cell_type": "code",
   "execution_count": 31,
   "id": "4f2117da",
   "metadata": {},
   "outputs": [],
   "source": [
    "# df['xbin'] = pd.cut(df.x,bins=100,labels=False)\n",
    "# df['ybin'] = pd.cut(df.y,bins=100,labels=False)"
   ]
  },
  {
   "cell_type": "code",
   "execution_count": 32,
   "id": "54cd49f7",
   "metadata": {},
   "outputs": [],
   "source": [
    "# df.xbin = df.xbin.apply(lambda x: x-50)\n",
    "# df.ybin = df.ybin.apply(lambda x: x-50)"
   ]
  },
  {
   "cell_type": "code",
   "execution_count": 33,
   "id": "3988929a",
   "metadata": {},
   "outputs": [],
   "source": [
    "#df.to_pickle('dftsnebins.pkl')"
   ]
  },
  {
   "cell_type": "code",
   "execution_count": 34,
   "id": "949477ea",
   "metadata": {},
   "outputs": [],
   "source": [
    "dfo = pd.read_pickle('dftsnebins.pkl')\n",
    "dfo.xbin = dfo.xbin.apply(lambda x: x+50)\n",
    "dfo.ybin = dfo.ybin.apply(lambda x: x+50)"
   ]
  },
  {
   "cell_type": "code",
   "execution_count": 35,
   "id": "8a50cb69",
   "metadata": {},
   "outputs": [],
   "source": [
    "dfo = dfo[['catalog','xbin','ybin']]"
   ]
  },
  {
   "cell_type": "code",
   "execution_count": 36,
   "id": "26de968a",
   "metadata": {},
   "outputs": [],
   "source": [
    "df = df.join(dfo.set_index('catalog'),'catalog')"
   ]
  },
  {
   "cell_type": "code",
   "execution_count": 37,
   "id": "26123e8b",
   "metadata": {},
   "outputs": [],
   "source": [
    "del df['impath']\n",
    "del df['bwpaths']\n",
    "# del df['x']\n",
    "# del df['y']"
   ]
  },
  {
   "cell_type": "code",
   "execution_count": 38,
   "id": "29a8e30d",
   "metadata": {},
   "outputs": [],
   "source": [
    "df['tsne'] = df.apply(lambda row: [row['xbin'], row['ybin']] if not pd.isna(row['xbin']) else None, axis=1)"
   ]
  },
  {
   "cell_type": "code",
   "execution_count": 39,
   "id": "822ae3f3",
   "metadata": {},
   "outputs": [],
   "source": [
    "del df['xbin']\n",
    "del df['ybin']"
   ]
  },
  {
   "cell_type": "code",
   "execution_count": 40,
   "id": "e106a2a4",
   "metadata": {},
   "outputs": [],
   "source": [
    "df['tsne'] = df['tsne'].apply(lambda x: tuple(x) if isinstance(x,list) else x)"
   ]
  },
  {
   "cell_type": "code",
   "execution_count": 41,
   "id": "8bf70c0c",
   "metadata": {},
   "outputs": [],
   "source": [
    "df = df.sort_values('tsne')"
   ]
  },
  {
   "cell_type": "code",
   "execution_count": 42,
   "id": "836f6879",
   "metadata": {},
   "outputs": [],
   "source": [
    "df['z'] = df.groupby('tsne').cumcount()"
   ]
  },
  {
   "cell_type": "code",
   "execution_count": 43,
   "id": "5be8e0f0",
   "metadata": {},
   "outputs": [],
   "source": [
    "df['tsne'] = df['tsne'].apply(lambda x: list(x) if isinstance(x,tuple) else x)"
   ]
  },
  {
   "cell_type": "code",
   "execution_count": 44,
   "id": "e531227c",
   "metadata": {},
   "outputs": [],
   "source": [
    "df['tmap'] = df.apply(lambda row: [row['tsne'][0], row['tsne'][1], row['z']] if isinstance(row['tsne'],list) else None,\n",
    "        axis=1)"
   ]
  },
  {
   "cell_type": "code",
   "execution_count": 45,
   "id": "e03809fd",
   "metadata": {},
   "outputs": [],
   "source": [
    "del df['tsne']\n",
    "del df['z']"
   ]
  },
  {
   "cell_type": "code",
   "execution_count": 46,
   "id": "82f9165c",
   "metadata": {},
   "outputs": [],
   "source": [
    "df.to_pickle('/Users/damoncrockett/lmlproc/dbdfgepneural.pkl')"
   ]
  }
 ],
 "metadata": {
  "kernelspec": {
   "display_name": "Python 3 (ipykernel)",
   "language": "python",
   "name": "python3"
  },
  "language_info": {
   "codemirror_mode": {
    "name": "ipython",
    "version": 3
   },
   "file_extension": ".py",
   "mimetype": "text/x-python",
   "name": "python",
   "nbconvert_exporter": "python",
   "pygments_lexer": "ipython3",
   "version": "3.10.4"
  }
 },
 "nbformat": 4,
 "nbformat_minor": 5
}
