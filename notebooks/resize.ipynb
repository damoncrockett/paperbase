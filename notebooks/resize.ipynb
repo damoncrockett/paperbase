{
 "cells": [
  {
   "cell_type": "code",
   "execution_count": 1,
   "id": "e5608c17",
   "metadata": {},
   "outputs": [],
   "source": [
    "import pandas as pd\n",
    "import sys\n",
    "sys.path.append(\"/Users/damoncrockett/ivpy/src\")\n",
    "from ivpy import *\n",
    "from ivpy.utils import resize"
   ]
  },
  {
   "cell_type": "code",
   "execution_count": 2,
   "id": "88cf2260",
   "metadata": {},
   "outputs": [],
   "source": [
    "import glob,os"
   ]
  },
  {
   "cell_type": "markdown",
   "id": "0ba142ba",
   "metadata": {},
   "source": [
    "# backprint_detail"
   ]
  },
  {
   "cell_type": "code",
   "execution_count": 3,
   "id": "af6eb6d5",
   "metadata": {},
   "outputs": [],
   "source": [
    "allb = glob.glob(os.path.join(\"/Users/damoncrockett/paperbase/src/assets/img/backprints_detail/\",\"*.jpg\"))"
   ]
  },
  {
   "cell_type": "code",
   "execution_count": 5,
   "id": "215248de",
   "metadata": {},
   "outputs": [],
   "source": [
    "bf = pd.DataFrame({\"fpath\":allb})"
   ]
  },
  {
   "cell_type": "code",
   "execution_count": 6,
   "id": "00ea5395",
   "metadata": {},
   "outputs": [],
   "source": [
    "attach(bf,'fpath')"
   ]
  },
  {
   "cell_type": "code",
   "execution_count": 7,
   "id": "a347a82e",
   "metadata": {},
   "outputs": [],
   "source": [
    "_ = resize(savedir=\"/Users/damoncrockett/paperbase/src/assets/img/backprints_detail_512/\",thumb=512)\n",
    "_ = resize(savedir=\"/Users/damoncrockett/paperbase/src/assets/img/backprints_detail_256/\",thumb=256)"
   ]
  },
  {
   "cell_type": "markdown",
   "id": "510f4d50",
   "metadata": {},
   "source": [
    "# packages"
   ]
  },
  {
   "cell_type": "code",
   "execution_count": 3,
   "id": "409a6b4a",
   "metadata": {},
   "outputs": [],
   "source": [
    "allp = glob.glob(os.path.join(\"/Users/damoncrockett/paperbase/src/assets/img/packages/\",\"*.jpg\"))"
   ]
  },
  {
   "cell_type": "code",
   "execution_count": 4,
   "id": "9e9fd49f",
   "metadata": {},
   "outputs": [],
   "source": [
    "pf = pd.DataFrame({\"fpath\":allp})"
   ]
  },
  {
   "cell_type": "code",
   "execution_count": 5,
   "id": "25ed8905",
   "metadata": {},
   "outputs": [],
   "source": [
    "attach(pf,'fpath')"
   ]
  },
  {
   "cell_type": "code",
   "execution_count": 6,
   "id": "f39526e5",
   "metadata": {},
   "outputs": [],
   "source": [
    "_ = resize(savedir=\"/Users/damoncrockett/paperbase/src/assets/img/packages_2048/\",thumb=2048)\n",
    "_ = resize(savedir=\"/Users/damoncrockett/paperbase/src/assets/img/packages_1024/\",thumb=1024)\n",
    "_ = resize(savedir=\"/Users/damoncrockett/paperbase/src/assets/img/packages_512/\",thumb=512)\n",
    "_ = resize(savedir=\"/Users/damoncrockett/paperbase/src/assets/img/packages_256/\",thumb=256)"
   ]
  },
  {
   "cell_type": "markdown",
   "id": "f3d74bf9",
   "metadata": {},
   "source": [
    "# sample books"
   ]
  },
  {
   "cell_type": "code",
   "execution_count": 7,
   "id": "e784e153",
   "metadata": {},
   "outputs": [],
   "source": [
    "alls = glob.glob(os.path.join(\"/Users/damoncrockett/paperbase/src/assets/img/samplebooks/\",\"*.jpg\"))"
   ]
  },
  {
   "cell_type": "code",
   "execution_count": 8,
   "id": "559a0807",
   "metadata": {},
   "outputs": [],
   "source": [
    "sf = pd.DataFrame({\"fpath\":alls})"
   ]
  },
  {
   "cell_type": "code",
   "execution_count": 9,
   "id": "c2576228",
   "metadata": {},
   "outputs": [],
   "source": [
    "attach(sf,'fpath')"
   ]
  },
  {
   "cell_type": "code",
   "execution_count": 10,
   "id": "d45758ee",
   "metadata": {},
   "outputs": [],
   "source": [
    "_ = resize(savedir=\"/Users/damoncrockett/paperbase/src/assets/img/samplebooks_2048/\",thumb=2048)\n",
    "_ = resize(savedir=\"/Users/damoncrockett/paperbase/src/assets/img/samplebooks_1024/\",thumb=1024)\n",
    "_ = resize(savedir=\"/Users/damoncrockett/paperbase/src/assets/img/samplebooks_512/\",thumb=512)\n",
    "_ = resize(savedir=\"/Users/damoncrockett/paperbase/src/assets/img/samplebooks_256/\",thumb=256)"
   ]
  },
  {
   "cell_type": "markdown",
   "id": "37e9d8c2",
   "metadata": {},
   "source": [
    "# texture"
   ]
  },
  {
   "cell_type": "code",
   "execution_count": 11,
   "id": "81f709af",
   "metadata": {},
   "outputs": [],
   "source": [
    "allt = glob.glob(os.path.join(\"/Users/damoncrockett/paperbase/src/assets/img/texture/\",\"*.jpg\"))"
   ]
  },
  {
   "cell_type": "code",
   "execution_count": 12,
   "id": "b10f852b",
   "metadata": {},
   "outputs": [],
   "source": [
    "tf = pd.DataFrame({\"fpath\":allt})"
   ]
  },
  {
   "cell_type": "code",
   "execution_count": 13,
   "id": "8127a1a4",
   "metadata": {},
   "outputs": [],
   "source": [
    "attach(tf,'fpath')"
   ]
  },
  {
   "cell_type": "code",
   "execution_count": 14,
   "id": "23b8576a",
   "metadata": {},
   "outputs": [],
   "source": [
    "_ = resize(savedir=\"/Users/damoncrockett/paperbase/src/assets/img/texture_512/\",thumb=512)\n",
    "_ = resize(savedir=\"/Users/damoncrockett/paperbase/src/assets/img/texture_256/\",thumb=256)"
   ]
  }
 ],
 "metadata": {
  "kernelspec": {
   "display_name": "Python 3 (ipykernel)",
   "language": "python",
   "name": "python3"
  },
  "language_info": {
   "codemirror_mode": {
    "name": "ipython",
    "version": 3
   },
   "file_extension": ".py",
   "mimetype": "text/x-python",
   "name": "python",
   "nbconvert_exporter": "python",
   "pygments_lexer": "ipython3",
   "version": "3.10.4"
  }
 },
 "nbformat": 4,
 "nbformat_minor": 5
}
