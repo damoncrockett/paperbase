{
 "cells": [
  {
   "cell_type": "code",
   "execution_count": 1,
   "id": "3f1e534a",
   "metadata": {},
   "outputs": [],
   "source": [
    "import pandas as pd"
   ]
  },
  {
   "cell_type": "code",
   "execution_count": 2,
   "id": "1665915d",
   "metadata": {},
   "outputs": [],
   "source": [
    "df = pd.read_csv('august2024_dimensions.csv')"
   ]
  },
  {
   "cell_type": "code",
   "execution_count": 10,
   "id": "64655251",
   "metadata": {},
   "outputs": [
    {
     "data": {
      "text/plain": [
       "2391"
      ]
     },
     "execution_count": 10,
     "metadata": {},
     "output_type": "execute_result"
    }
   ],
   "source": [
    "len(df.loc[df.sb==0])"
   ]
  },
  {
   "cell_type": "code",
   "execution_count": 24,
   "id": "0aad97f3",
   "metadata": {},
   "outputs": [
    {
     "data": {
      "text/plain": [
       "85"
      ]
     },
     "execution_count": 24,
     "metadata": {},
     "output_type": "execute_result"
    }
   ],
   "source": [
    "len(df.textureWord.value_counts())"
   ]
  },
  {
   "cell_type": "code",
   "execution_count": 22,
   "id": "53888ce2",
   "metadata": {},
   "outputs": [
    {
     "data": {
      "text/plain": [
       "19"
      ]
     },
     "execution_count": 22,
     "metadata": {},
     "output_type": "execute_result"
    }
   ],
   "source": [
    "len(df.thicknessWord.value_counts())"
   ]
  },
  {
   "cell_type": "code",
   "execution_count": 23,
   "id": "b5e564cd",
   "metadata": {},
   "outputs": [
    {
     "data": {
      "text/plain": [
       "60"
      ]
     },
     "execution_count": 23,
     "metadata": {},
     "output_type": "execute_result"
    }
   ],
   "source": [
    "len(df.glossWord.value_counts())"
   ]
  },
  {
   "cell_type": "code",
   "execution_count": 26,
   "id": "b2a79dc3",
   "metadata": {},
   "outputs": [
    {
     "data": {
      "text/plain": [
       "45"
      ]
     },
     "execution_count": 26,
     "metadata": {},
     "output_type": "execute_result"
    }
   ],
   "source": [
    "len(df.colorWord.value_counts())"
   ]
  },
  {
   "cell_type": "code",
   "execution_count": 27,
   "id": "ef7c9e32",
   "metadata": {},
   "outputs": [
    {
     "data": {
      "text/plain": [
       "209"
      ]
     },
     "execution_count": 27,
     "metadata": {},
     "output_type": "execute_result"
    }
   ],
   "source": [
    "85+19+60+45"
   ]
  },
  {
   "cell_type": "code",
   "execution_count": 29,
   "id": "a90a199e",
   "metadata": {},
   "outputs": [
    {
     "data": {
      "text/plain": [
       "Index(['catalog', 'man', 'bran', 'year', 'circa', 'surf', 'textureWord',\n",
       "       'glossWord', 'colorWord', 'thicknessWord', 'dims', 'backp', 'postcard',\n",
       "       'toner', 'resin', 'sb', 'sbid', 'suffs', 'dmin', 'dmax', 'dminHex',\n",
       "       'dmaxHex', 'auc', 'roughness', 'gloss', 'thickness', 'expressiveness',\n",
       "       'radarGroup', 'expressivenessGroup', 'isoGroup', 'gep100', 'gep150',\n",
       "       'gep200', 'gep250', 'gep300', 'tmap', 'processing'],\n",
       "      dtype='object')"
      ]
     },
     "execution_count": 29,
     "metadata": {},
     "output_type": "execute_result"
    }
   ],
   "source": [
    "df.columns"
   ]
  },
  {
   "cell_type": "code",
   "execution_count": 30,
   "id": "a7c6552a",
   "metadata": {},
   "outputs": [
    {
     "data": {
      "text/plain": [
       "0       l|v|b\n",
       "1           v\n",
       "2       v|t|b\n",
       "3           v\n",
       "4           v\n",
       "        ...  \n",
       "6893      NaN\n",
       "6894      NaN\n",
       "6895      NaN\n",
       "6896      NaN\n",
       "6897      NaN\n",
       "Name: suffs, Length: 6898, dtype: object"
      ]
     },
     "execution_count": 30,
     "metadata": {},
     "output_type": "execute_result"
    }
   ],
   "source": [
    "df.suffs"
   ]
  },
  {
   "cell_type": "code",
   "execution_count": null,
   "id": "cc2333a9",
   "metadata": {},
   "outputs": [],
   "source": []
  },
  {
   "cell_type": "code",
   "execution_count": null,
   "id": "df5e25f0",
   "metadata": {},
   "outputs": [],
   "source": []
  }
 ],
 "metadata": {
  "kernelspec": {
   "display_name": "Python 3 (ipykernel)",
   "language": "python",
   "name": "python3"
  },
  "language_info": {
   "codemirror_mode": {
    "name": "ipython",
    "version": 3
   },
   "file_extension": ".py",
   "mimetype": "text/x-python",
   "name": "python",
   "nbconvert_exporter": "python",
   "pygments_lexer": "ipython3",
   "version": "3.10.4"
  }
 },
 "nbformat": 4,
 "nbformat_minor": 5
}
