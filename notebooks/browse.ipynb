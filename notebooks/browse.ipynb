{
 "cells": [
  {
   "cell_type": "code",
   "execution_count": 1,
   "id": "83386f08",
   "metadata": {},
   "outputs": [],
   "source": [
    "import pandas as pd"
   ]
  },
  {
   "cell_type": "code",
   "execution_count": 2,
   "id": "11105853",
   "metadata": {},
   "outputs": [],
   "source": [
    "df = pd.read_csv('august2024_dimensions.csv')"
   ]
  },
  {
   "cell_type": "code",
   "execution_count": 10,
   "id": "fb82025b",
   "metadata": {},
   "outputs": [
    {
     "data": {
      "text/plain": [
       "2391"
      ]
     },
     "execution_count": 10,
     "metadata": {},
     "output_type": "execute_result"
    }
   ],
   "source": [
    "len(df.loc[df.sb==0])"
   ]
  },
  {
   "cell_type": "code",
   "execution_count": 24,
   "id": "21297ba6",
   "metadata": {},
   "outputs": [
    {
     "data": {
      "text/plain": [
       "85"
      ]
     },
     "execution_count": 24,
     "metadata": {},
     "output_type": "execute_result"
    }
   ],
   "source": [
    "len(df.textureWord.value_counts())"
   ]
  },
  {
   "cell_type": "code",
   "execution_count": 22,
   "id": "b5d653cf",
   "metadata": {},
   "outputs": [
    {
     "data": {
      "text/plain": [
       "19"
      ]
     },
     "execution_count": 22,
     "metadata": {},
     "output_type": "execute_result"
    }
   ],
   "source": [
    "len(df.thicknessWord.value_counts())"
   ]
  },
  {
   "cell_type": "code",
   "execution_count": 23,
   "id": "9779ccea",
   "metadata": {},
   "outputs": [
    {
     "data": {
      "text/plain": [
       "60"
      ]
     },
     "execution_count": 23,
     "metadata": {},
     "output_type": "execute_result"
    }
   ],
   "source": [
    "len(df.glossWord.value_counts())"
   ]
  },
  {
   "cell_type": "code",
   "execution_count": 26,
   "id": "a1eb50a6",
   "metadata": {},
   "outputs": [
    {
     "data": {
      "text/plain": [
       "45"
      ]
     },
     "execution_count": 26,
     "metadata": {},
     "output_type": "execute_result"
    }
   ],
   "source": [
    "len(df.colorWord.value_counts())"
   ]
  },
  {
   "cell_type": "code",
   "execution_count": 27,
   "id": "a7b33538",
   "metadata": {},
   "outputs": [
    {
     "data": {
      "text/plain": [
       "209"
      ]
     },
     "execution_count": 27,
     "metadata": {},
     "output_type": "execute_result"
    }
   ],
   "source": [
    "85+19+60+45"
   ]
  },
  {
   "cell_type": "code",
   "execution_count": 29,
   "id": "26041591",
   "metadata": {},
   "outputs": [
    {
     "data": {
      "text/plain": [
       "Index(['catalog', 'man', 'bran', 'year', 'circa', 'surf', 'textureWord',\n",
       "       'glossWord', 'colorWord', 'thicknessWord', 'dims', 'backp', 'postcard',\n",
       "       'toner', 'resin', 'sb', 'sbid', 'suffs', 'dmin', 'dmax', 'dminHex',\n",
       "       'dmaxHex', 'auc', 'roughness', 'gloss', 'thickness', 'expressiveness',\n",
       "       'radarGroup', 'expressivenessGroup', 'isoGroup', 'gep100', 'gep150',\n",
       "       'gep200', 'gep250', 'gep300', 'tmap', 'processing'],\n",
       "      dtype='object')"
      ]
     },
     "execution_count": 29,
     "metadata": {},
     "output_type": "execute_result"
    }
   ],
   "source": [
    "df.columns"
   ]
  },
  {
   "cell_type": "code",
   "execution_count": 30,
   "id": "10f9106f",
   "metadata": {},
   "outputs": [
    {
     "data": {
      "text/plain": [
       "0       l|v|b\n",
       "1           v\n",
       "2       v|t|b\n",
       "3           v\n",
       "4           v\n",
       "        ...  \n",
       "6893      NaN\n",
       "6894      NaN\n",
       "6895      NaN\n",
       "6896      NaN\n",
       "6897      NaN\n",
       "Name: suffs, Length: 6898, dtype: object"
      ]
     },
     "execution_count": 30,
     "metadata": {},
     "output_type": "execute_result"
    }
   ],
   "source": [
    "df.suffs"
   ]
  },
  {
   "cell_type": "code",
   "execution_count": null,
   "id": "1642c1ff",
   "metadata": {},
   "outputs": [],
   "source": []
  },
  {
   "cell_type": "code",
   "execution_count": null,
   "id": "0556c31a",
   "metadata": {},
   "outputs": [],
   "source": []
  }
 ],
 "metadata": {
  "kernelspec": {
   "display_name": "Python 3 (ipykernel)",
   "language": "python",
   "name": "python3"
  },
  "language_info": {
   "codemirror_mode": {
    "name": "ipython",
    "version": 3
   },
   "file_extension": ".py",
   "mimetype": "text/x-python",
   "name": "python",
   "nbconvert_exporter": "python",
   "pygments_lexer": "ipython3",
   "version": "3.10.4"
  }
 },
 "nbformat": 4,
 "nbformat_minor": 5
}
