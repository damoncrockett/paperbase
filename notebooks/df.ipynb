{
 "cells": [
  {
   "cell_type": "code",
   "execution_count": 1,
   "id": "822b62fe",
   "metadata": {},
   "outputs": [],
   "source": [
    "import pandas as pd\n",
    "import warnings\n",
    "warnings.filterwarnings('ignore')\n",
    "import glob,os\n",
    "import sys\n",
    "sys.path.append(\"/Users/damoncrockett/ivpy/src/\")\n",
    "from ivpy import *\n",
    "from PIL import Image"
   ]
  },
  {
   "cell_type": "code",
   "execution_count": 2,
   "id": "6bfc71ec",
   "metadata": {},
   "outputs": [],
   "source": [
    "db = pd.read_pickle(\"/Users/damoncrockett/lmlproc/db.pkl\")"
   ]
  },
  {
   "cell_type": "code",
   "execution_count": 3,
   "id": "23de0d87",
   "metadata": {},
   "outputs": [],
   "source": [
    "db = db.loc[db.forma!=\"Package only\"]\n",
    "db = db.reset_index(drop=True)"
   ]
  },
  {
   "cell_type": "code",
   "execution_count": 4,
   "id": "0e794c96",
   "metadata": {},
   "outputs": [],
   "source": [
    "fulldb = pd.read_csv(\"/Users/damoncrockett/Dropbox/lml/export_07_31_24.csv\", encoding='latin-1')\n",
    "fulldb = fulldb.fillna('')\n",
    "fulldb['catalog'] = fulldb['Catalog Number'].apply(str) + fulldb['Secondary Catalog Number']\n",
    "omits = list(fulldb.catalog.loc[fulldb.Omit_from_Paperbase==1]) + ['952']"
   ]
  },
  {
   "cell_type": "code",
   "execution_count": 5,
   "id": "5af0eac0",
   "metadata": {},
   "outputs": [],
   "source": [
    "#fulldb.loc[fulldb.catalog=='4148'].iloc[0]"
   ]
  },
  {
   "cell_type": "code",
   "execution_count": 6,
   "id": "a1521415",
   "metadata": {},
   "outputs": [],
   "source": [
    "# ADD\n",
    "# all measurement trials\n",
    "# legacy measurements?\n",
    "# binning\n",
    "# GEP\n",
    "# full hex colors\n",
    "# expressiveness\n",
    "# steerable pyramid / t-SNE coords?\n",
    "# UV (auc and something binary, probably)"
   ]
  },
  {
   "cell_type": "code",
   "execution_count": 7,
   "id": "d5b1cd93",
   "metadata": {},
   "outputs": [],
   "source": [
    "# REMOVE\n",
    "# flagged measurements\n",
    "# there may be a lot of these for color"
   ]
  },
  {
   "cell_type": "markdown",
   "id": "bbdb434a",
   "metadata": {},
   "source": [
    "# thickness"
   ]
  },
  {
   "cell_type": "code",
   "execution_count": 8,
   "id": "fe24a150",
   "metadata": {
    "scrolled": false
   },
   "outputs": [],
   "source": [
    "tf = pd.read_pickle(\"/Users/damoncrockett/lmlproc/proc/thickness/raw_dedupe.pkl\")"
   ]
  },
  {
   "cell_type": "code",
   "execution_count": 9,
   "id": "4e41913c",
   "metadata": {},
   "outputs": [],
   "source": [
    "def median_of_lists(values):\n",
    "    combined_list = sum(values, [])\n",
    "    return pd.Series(combined_list).median()"
   ]
  },
  {
   "cell_type": "code",
   "execution_count": 10,
   "id": "b5bfcfb0",
   "metadata": {},
   "outputs": [],
   "source": [
    "tfm = tf.groupby('catalog')['thickness'].agg(median_of_lists).reset_index()"
   ]
  },
  {
   "cell_type": "markdown",
   "id": "d131181c",
   "metadata": {},
   "source": [
    "# gloss"
   ]
  },
  {
   "cell_type": "code",
   "execution_count": 11,
   "id": "0a98b4fd",
   "metadata": {},
   "outputs": [],
   "source": [
    "import numpy as np"
   ]
  },
  {
   "cell_type": "code",
   "execution_count": 12,
   "id": "d55e691b",
   "metadata": {},
   "outputs": [],
   "source": [
    "gf = pd.read_pickle(\"/Users/damoncrockett/lmlproc/proc/gloss/raw_dedupe.pkl\")\n",
    "gfp = pd.read_pickle(\"/Users/damoncrockett/lmlproc/proc/gloss/raw_dedupe_paul.pkl\")"
   ]
  },
  {
   "cell_type": "code",
   "execution_count": 13,
   "id": "cbeff2a9",
   "metadata": {},
   "outputs": [],
   "source": [
    "gf = gf[['cat','g60']]"
   ]
  },
  {
   "cell_type": "code",
   "execution_count": 14,
   "id": "7e9b89cb",
   "metadata": {},
   "outputs": [],
   "source": [
    "gfp = gfp[['cat','g60']]"
   ]
  },
  {
   "cell_type": "code",
   "execution_count": 15,
   "id": "3958e200",
   "metadata": {},
   "outputs": [],
   "source": [
    "tmp = pd.concat([gf,gfp])"
   ]
  },
  {
   "cell_type": "code",
   "execution_count": 16,
   "id": "f500cac3",
   "metadata": {},
   "outputs": [],
   "source": [
    "gfm = tmp.groupby('cat').agg(np.median).reset_index()"
   ]
  },
  {
   "cell_type": "code",
   "execution_count": 17,
   "id": "a863aa46",
   "metadata": {},
   "outputs": [],
   "source": [
    "gfm.rename(columns={\"cat\":\"catalog\"},inplace=True)"
   ]
  },
  {
   "cell_type": "markdown",
   "id": "032fe992",
   "metadata": {},
   "source": [
    "# texture"
   ]
  },
  {
   "cell_type": "code",
   "execution_count": 18,
   "id": "b637ff88",
   "metadata": {},
   "outputs": [],
   "source": [
    "xf = pd.read_pickle(\"/Users/damoncrockett/lmlproc/proc/texture/raw_corrections_dedupe.pkl\")"
   ]
  },
  {
   "cell_type": "code",
   "execution_count": 19,
   "id": "91142cdf",
   "metadata": {},
   "outputs": [],
   "source": [
    "medians = xf.groupby('catalog')['roughness'].median().rename('median_roughness')"
   ]
  },
  {
   "cell_type": "code",
   "execution_count": 20,
   "id": "5e9d76dd",
   "metadata": {},
   "outputs": [],
   "source": [
    "xf = xf.merge(medians, on='catalog')"
   ]
  },
  {
   "cell_type": "code",
   "execution_count": 21,
   "id": "9dda0fe6",
   "metadata": {},
   "outputs": [],
   "source": [
    "xf['diff'] = (xf['roughness'] - xf['median_roughness']).abs()"
   ]
  },
  {
   "cell_type": "code",
   "execution_count": 22,
   "id": "402fb449",
   "metadata": {},
   "outputs": [],
   "source": [
    "xfm = xf.sort_values(by='diff').drop_duplicates('catalog', keep='first')"
   ]
  },
  {
   "cell_type": "code",
   "execution_count": 23,
   "id": "c6eb0cbf",
   "metadata": {},
   "outputs": [],
   "source": [
    "xfm = xfm.drop(columns=['median_roughness', 'diff'])"
   ]
  },
  {
   "cell_type": "code",
   "execution_count": 24,
   "id": "7ef37141",
   "metadata": {},
   "outputs": [],
   "source": [
    "xfm.rename(columns={\"manbran\":\"manbran_x\"},inplace=True)"
   ]
  },
  {
   "cell_type": "code",
   "execution_count": 25,
   "id": "40047bcd",
   "metadata": {},
   "outputs": [],
   "source": [
    "xfm = xfm[['catalog','manbran_x','roughness','localpath']]"
   ]
  },
  {
   "cell_type": "code",
   "execution_count": 26,
   "id": "a29d2734",
   "metadata": {},
   "outputs": [],
   "source": [
    "xfm = xfm.loc[~xfm.catalog.isin(omits)]"
   ]
  },
  {
   "cell_type": "code",
   "execution_count": 27,
   "id": "f0e84cb8",
   "metadata": {},
   "outputs": [],
   "source": [
    "xfm = xfm.loc[xfm.catalog!='2047']"
   ]
  },
  {
   "cell_type": "code",
   "execution_count": 28,
   "id": "f2df652e",
   "metadata": {},
   "outputs": [],
   "source": [
    "xfm = xfm.reset_index(drop=True)"
   ]
  },
  {
   "cell_type": "code",
   "execution_count": 29,
   "id": "8261445d",
   "metadata": {},
   "outputs": [
    {
     "data": {
      "text/plain": [
       "5957"
      ]
     },
     "execution_count": 29,
     "metadata": {},
     "output_type": "execute_result"
    }
   ],
   "source": [
    "len(xfm)"
   ]
  },
  {
   "cell_type": "code",
   "execution_count": 30,
   "id": "a90233dd",
   "metadata": {},
   "outputs": [],
   "source": [
    "xfm.roughness.loc[xfm.catalog=='2073z'] = None"
   ]
  },
  {
   "cell_type": "code",
   "execution_count": 31,
   "id": "33066ad8",
   "metadata": {},
   "outputs": [],
   "source": [
    "import shutil"
   ]
  },
  {
   "cell_type": "code",
   "execution_count": 32,
   "id": "762cfde4",
   "metadata": {},
   "outputs": [],
   "source": [
    "# for fpath in xfm.localpath:\n",
    "#     shutil.copy(fpath,\"/Users/damoncrockett/paperbase/src/assets/tifs/\")\n",
    "# note that this creates a vulnerability because below, when two items are the same distance from the median, \n",
    "# there is some randomness in which gets selected. Below is sort of a rewritten history of what I did."
   ]
  },
  {
   "cell_type": "code",
   "execution_count": 33,
   "id": "c8febb73",
   "metadata": {},
   "outputs": [],
   "source": [
    "# xfm['pbpath'] = [\"/Users/damoncrockett/paperbase/src/assets/img/texture/\" + os.path.basename(item) for item in xfm.localpath]"
   ]
  },
  {
   "cell_type": "code",
   "execution_count": 34,
   "id": "e82b419a",
   "metadata": {},
   "outputs": [],
   "source": [
    "# xfm['pbpath'] = [os.path.splitext(item)[0] + \".jpg\" for item in xfm.pbpath]"
   ]
  },
  {
   "cell_type": "code",
   "execution_count": 35,
   "id": "fdc0d94b",
   "metadata": {},
   "outputs": [],
   "source": [
    "# for i in xfm.index:\n",
    "#     pbpath = xfm.pbpath.loc[i]\n",
    "#     if os.path.isfile(pbpath):\n",
    "#         catalog = xfm.catalog.loc[i]\n",
    "#         newpath = f'/Users/damoncrockett/paperbase/src/assets/img/texture/{catalog}.jpg'\n",
    "#         os.rename(pbpath,newpath)"
   ]
  },
  {
   "cell_type": "code",
   "execution_count": 36,
   "id": "c9594015",
   "metadata": {},
   "outputs": [],
   "source": [
    "xfm['pbpath_new'] = [f'/Users/damoncrockett/paperbase/src/assets/img/texture/{c}.jpg' for c in xfm.catalog]"
   ]
  },
  {
   "cell_type": "code",
   "execution_count": 37,
   "id": "c37e0aef",
   "metadata": {},
   "outputs": [],
   "source": [
    "# actualfiles = glob.glob(os.path.join(\"/Users/damoncrockett/paperbase/src/assets/img/texture/\",\"*.jpg\"))"
   ]
  },
  {
   "cell_type": "code",
   "execution_count": 38,
   "id": "92d4b520",
   "metadata": {},
   "outputs": [],
   "source": [
    "# for i in xfm.index:\n",
    "#     p = xfm.pbpath_new.loc[i]\n",
    "#     c = xfm.catalog.loc[i]\n",
    "#     if not os.path.isfile(p):\n",
    "#         pbpath = xfm.pbpath.loc[i]\n",
    "#         fstem = os.path.basename(pbpath)[:-4]\n",
    "#         cat_ = fstem.split(\"_\")[0] + \"_\"\n",
    "#         matches = [item for item in actualfiles if cat_ in item]\n",
    "#         assert len(matches)==1\n",
    "#         match = matches[0]\n",
    "#         os.rename(match,p)"
   ]
  },
  {
   "cell_type": "code",
   "execution_count": 39,
   "id": "2d6c9c4d",
   "metadata": {},
   "outputs": [],
   "source": [
    "# for p in xfm.pbpath_new:\n",
    "#     try:\n",
    "#         Image.open(p)\n",
    "#     except:\n",
    "#         print(p)"
   ]
  },
  {
   "cell_type": "code",
   "execution_count": 40,
   "id": "c096eb21",
   "metadata": {},
   "outputs": [],
   "source": [
    "#xfm.to_pickle('/Users/damoncrockett/Desktop/paperbase_OLD/xfm.pkl')"
   ]
  },
  {
   "cell_type": "code",
   "execution_count": 41,
   "id": "97ea01f3",
   "metadata": {},
   "outputs": [],
   "source": [
    "# attach(xfm,'pbpath_new')\n",
    "# montage(thumb=16)"
   ]
  },
  {
   "cell_type": "code",
   "execution_count": 42,
   "id": "9b546a72",
   "metadata": {
    "scrolled": false
   },
   "outputs": [],
   "source": [
    "#db.loc[(db.catalog.str.startswith('17'))&(db.catalog.str.len()==3)&(db.man=='Agfa Gevaert')]"
   ]
  },
  {
   "cell_type": "code",
   "execution_count": 43,
   "id": "f53e5ce4",
   "metadata": {},
   "outputs": [],
   "source": [
    "xfm = xfm[['catalog','roughness','pbpath_new']]"
   ]
  },
  {
   "cell_type": "code",
   "execution_count": 44,
   "id": "0833eec2",
   "metadata": {},
   "outputs": [],
   "source": [
    "attach(xfm,'pbpath_new')"
   ]
  },
  {
   "cell_type": "code",
   "execution_count": 45,
   "id": "84e43062",
   "metadata": {},
   "outputs": [],
   "source": [
    "#show(xcol='roughness',xdomain=(0.05,1),thumb=128,notecol='catalog')"
   ]
  },
  {
   "cell_type": "code",
   "execution_count": 46,
   "id": "6e487933",
   "metadata": {},
   "outputs": [],
   "source": [
    "badcats = [\n",
    "    '2401','2523','4870a','4870c','4870b',\n",
    "    '1878','4142','1860e','4811','5407r',\n",
    "    '3122','5407s','877p','1405'\n",
    "]"
   ]
  },
  {
   "cell_type": "code",
   "execution_count": 47,
   "id": "6edfee50",
   "metadata": {},
   "outputs": [],
   "source": [
    "# show(xfm.pbpath_new.loc[xfm.catalog.isin(badcats)],\n",
    "#      thumb=200,\n",
    "#      notecol=xfm.catalog.loc[xfm.catalog.isin(badcats)]).save('spurious_texture.jpg')"
   ]
  },
  {
   "cell_type": "code",
   "execution_count": 48,
   "id": "f5daa31d",
   "metadata": {},
   "outputs": [],
   "source": [
    "xfm.roughness.loc[xfm.catalog.isin(badcats)] = None"
   ]
  },
  {
   "cell_type": "code",
   "execution_count": 49,
   "id": "81a8a6e7",
   "metadata": {},
   "outputs": [],
   "source": [
    "# for p in xfm.pbpath_new:\n",
    "#     try:\n",
    "#         Image.open(p)\n",
    "#     except:\n",
    "#         print(p)"
   ]
  },
  {
   "cell_type": "markdown",
   "id": "000cf137",
   "metadata": {},
   "source": [
    "# color"
   ]
  },
  {
   "cell_type": "code",
   "execution_count": 50,
   "id": "a550e759",
   "metadata": {},
   "outputs": [],
   "source": [
    "cf = pd.read_pickle(\"/Users/damoncrockett/lmlproc/proc/color/raw_omissions_corrections-mmode_deduped_catalog.pkl\")"
   ]
  },
  {
   "cell_type": "code",
   "execution_count": 51,
   "id": "3a03cb68",
   "metadata": {
    "scrolled": false
   },
   "outputs": [],
   "source": [
    "idxs = cf.loc[~cf.mmode.isin(['M0','M1','M2'])].index"
   ]
  },
  {
   "cell_type": "code",
   "execution_count": 52,
   "id": "fcc302aa",
   "metadata": {},
   "outputs": [],
   "source": [
    "cf.catalog.loc[idxs] = [item.split('_')[0] for item in cf.mmode.loc[idxs]]"
   ]
  },
  {
   "cell_type": "code",
   "execution_count": 53,
   "id": "acbaec0c",
   "metadata": {},
   "outputs": [],
   "source": [
    "cf.manbran.loc[idxs] = [item.split('_')[1].split('-')[0] for item in cf.mmode.loc[idxs]]\n",
    "cf.mtrial.loc[idxs] = [item.split('_')[1].split('-')[1] for item in cf.mmode.loc[idxs]]"
   ]
  },
  {
   "cell_type": "code",
   "execution_count": 54,
   "id": "c4acadc3",
   "metadata": {},
   "outputs": [],
   "source": [
    "cf.mmode.loc[idxs] = \"M0\""
   ]
  },
  {
   "cell_type": "code",
   "execution_count": 55,
   "id": "76226e62",
   "metadata": {},
   "outputs": [],
   "source": [
    "del cf['sample_type']\n",
    "del cf['additional']"
   ]
  },
  {
   "cell_type": "code",
   "execution_count": 56,
   "id": "cb8e0d4e",
   "metadata": {},
   "outputs": [],
   "source": [
    "cf = cf.loc[cf.mmode=='M0']"
   ]
  },
  {
   "cell_type": "code",
   "execution_count": 57,
   "id": "66f0a902",
   "metadata": {},
   "outputs": [],
   "source": [
    "cf = cf[[item for item in cf.columns if 'nm' not in item]]"
   ]
  },
  {
   "cell_type": "code",
   "execution_count": 58,
   "id": "dfbbf954",
   "metadata": {},
   "outputs": [
    {
     "name": "stdout",
     "output_type": "stream",
     "text": [
      "5150\n"
     ]
    }
   ],
   "source": [
    "for c in cf.catalog.unique():\n",
    "    tmp = cf.loc[cf.catalog==c]\n",
    "    manbrans = set(tmp.manbran)\n",
    "    if len(manbrans) > 1:\n",
    "        print(c)"
   ]
  },
  {
   "cell_type": "code",
   "execution_count": 59,
   "id": "c017b7ad",
   "metadata": {},
   "outputs": [],
   "source": [
    "cf.manbran.loc[cf.catalog=='5150'] = 'cs'"
   ]
  },
  {
   "cell_type": "markdown",
   "id": "549d243b",
   "metadata": {},
   "source": [
    "#### medians"
   ]
  },
  {
   "cell_type": "code",
   "execution_count": 60,
   "id": "4b88e854",
   "metadata": {},
   "outputs": [],
   "source": [
    "cf['catloc'] = [f'{cf.catalog.loc[i]}_{cf.mloc.loc[i]}' for i in cf.index]"
   ]
  },
  {
   "cell_type": "code",
   "execution_count": 61,
   "id": "3baa977e",
   "metadata": {},
   "outputs": [],
   "source": [
    "# Group by 'catloc' and calculate the median of 'LAB_B' for each group\n",
    "medians = cf.groupby('catloc')['LAB_B'].median().rename('median_LAB_B')"
   ]
  },
  {
   "cell_type": "code",
   "execution_count": 62,
   "id": "2a4d5294",
   "metadata": {},
   "outputs": [],
   "source": [
    "# Merge the median back to the original DataFrame\n",
    "cf = cf.merge(medians, on='catloc')"
   ]
  },
  {
   "cell_type": "code",
   "execution_count": 63,
   "id": "0110eec9",
   "metadata": {},
   "outputs": [],
   "source": [
    "# Calculate the absolute difference from the median\n",
    "cf['diff'] = (cf['LAB_B'] - cf['median_LAB_B']).abs()"
   ]
  },
  {
   "cell_type": "code",
   "execution_count": 64,
   "id": "025d225a",
   "metadata": {},
   "outputs": [],
   "source": [
    "# Sort by difference and drop duplicates keeping the one with the smallest difference\n",
    "cfm = cf.sort_values(by='diff').drop_duplicates('catloc', keep='first')"
   ]
  },
  {
   "cell_type": "code",
   "execution_count": 65,
   "id": "e14f5032",
   "metadata": {},
   "outputs": [],
   "source": [
    "# Optionally, drop the columns used for calculation if they are no longer needed\n",
    "cfm = cfm.drop(columns=['median_LAB_B', 'diff', 'mtrial', 'mmode', 'catloc'])"
   ]
  },
  {
   "cell_type": "code",
   "execution_count": 66,
   "id": "a8db01b2",
   "metadata": {},
   "outputs": [],
   "source": [
    "cfm = cfm.sort_values(['catalog','mloc'])"
   ]
  },
  {
   "cell_type": "code",
   "execution_count": 67,
   "id": "28ab4332",
   "metadata": {},
   "outputs": [],
   "source": [
    "cfm = cfm.reset_index(drop=True)"
   ]
  },
  {
   "cell_type": "code",
   "execution_count": 68,
   "id": "76da8ef3",
   "metadata": {},
   "outputs": [],
   "source": [
    "cfm = cfm.rename(columns={\"manbran\":\"manbran_c\"})"
   ]
  },
  {
   "cell_type": "code",
   "execution_count": 69,
   "id": "8df826bc",
   "metadata": {},
   "outputs": [
    {
     "name": "stdout",
     "output_type": "stream",
     "text": [
      "#107feea\n",
      "#108ffe9\n"
     ]
    }
   ],
   "source": [
    "for dminhex in cfm.rgbhex.loc[cfm.mloc=='dmin']:\n",
    "    try:\n",
    "        Image.new('RGB',(10,10),dminhex)\n",
    "    except:\n",
    "        print(dminhex)"
   ]
  },
  {
   "cell_type": "markdown",
   "id": "7d165019",
   "metadata": {},
   "source": [
    "#### clamp out-of-gamut colors"
   ]
  },
  {
   "cell_type": "code",
   "execution_count": 70,
   "id": "0ea7ac62",
   "metadata": {},
   "outputs": [],
   "source": [
    "from colormath.color_objects import LabColor, sRGBColor\n",
    "from colormath.color_conversions import convert_color"
   ]
  },
  {
   "cell_type": "code",
   "execution_count": 71,
   "id": "0dd83e7a",
   "metadata": {},
   "outputs": [],
   "source": [
    "def clamp_hex(df,i):\n",
    "    l = df.LAB_L.loc[i]\n",
    "    a = df.LAB_A.loc[i]\n",
    "    b = df.LAB_B.loc[i]\n",
    "    \n",
    "    lab = LabColor(l, a, b)\n",
    "    rgb = convert_color(lab, sRGBColor)\n",
    "    rgbhex = sRGBColor(rgb.clamped_rgb_r,rgb.clamped_rgb_g,rgb.clamped_rgb_b).get_rgb_hex()\n",
    "    \n",
    "    return rgbhex"
   ]
  },
  {
   "cell_type": "code",
   "execution_count": 72,
   "id": "32c72a6b",
   "metadata": {},
   "outputs": [],
   "source": [
    "idx = cfm.loc[cfm.rgbhex=='#107feea'].index\n",
    "cfm.rgbhex.loc[idx] = clamp_hex(cfm,idx)"
   ]
  },
  {
   "cell_type": "code",
   "execution_count": 73,
   "id": "57483ed8",
   "metadata": {},
   "outputs": [],
   "source": [
    "idx = cfm.loc[cfm.rgbhex=='#108ffe9'].index\n",
    "cfm.rgbhex.loc[idx] = clamp_hex(cfm,idx)"
   ]
  },
  {
   "cell_type": "code",
   "execution_count": 74,
   "id": "56317315",
   "metadata": {},
   "outputs": [],
   "source": [
    "# compose(*list(cfm.rgbhex.loc[cfm.mloc=='dmin'].apply(lambda x: Image.new('RGB',(10,10),x))),thumb=10)\n",
    "# compose(*list(cfm.rgbhex.loc[cfm.mloc=='dmax'].apply(lambda x: Image.new('RGB',(10,10),x))),thumb=10)"
   ]
  },
  {
   "cell_type": "code",
   "execution_count": 75,
   "id": "30d466ae",
   "metadata": {},
   "outputs": [],
   "source": [
    "del cfm['fname']\n",
    "del cfm['LAB_L']\n",
    "del cfm['LAB_A']"
   ]
  },
  {
   "cell_type": "code",
   "execution_count": 76,
   "id": "150adb87",
   "metadata": {},
   "outputs": [],
   "source": [
    "catalogs = []\n",
    "manbran_cs = []\n",
    "LAB_Bs_dmin = []\n",
    "LAB_Bs_dmax = []\n",
    "rgbhexes_dmin = []\n",
    "rgbhexes_dmax = []\n",
    "\n",
    "for catalog in cfm.catalog.unique():\n",
    "    catalogs.append(catalog)\n",
    "    \n",
    "    tmp = cfm.loc[cfm.catalog==catalog]\n",
    "    assert len(tmp) < 3\n",
    "    \n",
    "    assert len(set(tmp.manbran_c))==1\n",
    "    manbran_cs.append(tmp.manbran_c.iloc[0])\n",
    "    \n",
    "    dmin = tmp.loc[tmp.mloc=='dmin']\n",
    "    if len(dmin) > 0:\n",
    "        assert len(dmin) == 1\n",
    "        LAB_Bs_dmin.append(dmin.LAB_B.iloc[0])\n",
    "        rgbhexes_dmin.append(dmin.rgbhex.iloc[0])\n",
    "    else:\n",
    "        LAB_Bs_dmin.append(None)\n",
    "        rgbhexes_dmin.append(None)\n",
    "        \n",
    "    dmax = tmp.loc[tmp.mloc=='dmax']\n",
    "    if len(dmax) > 0:\n",
    "        assert len(dmax) == 1\n",
    "        LAB_Bs_dmax.append(dmax.LAB_B.iloc[0])\n",
    "        rgbhexes_dmax.append(dmax.rgbhex.iloc[0])\n",
    "    else:\n",
    "        LAB_Bs_dmax.append(None)\n",
    "        rgbhexes_dmax.append(None)"
   ]
  },
  {
   "cell_type": "code",
   "execution_count": 77,
   "id": "88fc279b",
   "metadata": {},
   "outputs": [],
   "source": [
    "cfmwide = pd.DataFrame({\"catalog\":catalogs,\n",
    "                        #\"manbran_c\":manbran_cs,\n",
    "                        \"dmin\":LAB_Bs_dmin,\n",
    "                        \"dmax\":LAB_Bs_dmax,\n",
    "                        \"dminHex\":rgbhexes_dmin,\n",
    "                        \"dmaxHex\":rgbhexes_dmax\n",
    "                       })"
   ]
  },
  {
   "cell_type": "markdown",
   "id": "3808bd7b",
   "metadata": {},
   "source": [
    "#### corrections"
   ]
  },
  {
   "cell_type": "code",
   "execution_count": 78,
   "id": "5c6da229",
   "metadata": {},
   "outputs": [],
   "source": [
    "cfmwide = cfmwide.loc[cfmwide.catalog!='214']"
   ]
  },
  {
   "cell_type": "code",
   "execution_count": 79,
   "id": "9343d30f",
   "metadata": {},
   "outputs": [],
   "source": [
    "idx = cfmwide.loc[cfmwide.catalog=='249'].index\n",
    "cfmwide = cfmwide.drop(idx)\n",
    "cfmwide = cfmwide.reset_index(drop=True)\n",
    "cfmwide.catalog.loc[cfmwide.catalog=='294'] = '249'"
   ]
  },
  {
   "cell_type": "code",
   "execution_count": 80,
   "id": "9e8c368f",
   "metadata": {},
   "outputs": [],
   "source": [
    "cfmwide.catalog.loc[cfmwide.catalog=='5515y'] = '5515z'\n",
    "cfmwide.catalog.loc[cfmwide.catalog=='5515x'] = '5515y'\n",
    "cfmwide.catalog.loc[cfmwide.catalog=='5516y'] = '5516z'\n",
    "cfmwide.catalog.loc[cfmwide.catalog=='5516x'] = '5516y'"
   ]
  },
  {
   "cell_type": "code",
   "execution_count": 81,
   "id": "45d0f4a9",
   "metadata": {},
   "outputs": [],
   "source": [
    "sf = pd.read_pickle(\"/Users/damoncrockett/Desktop/uv/color_measurements_for_uv_analysis.pkl\")"
   ]
  },
  {
   "cell_type": "code",
   "execution_count": 82,
   "id": "873d3c0d",
   "metadata": {},
   "outputs": [],
   "source": [
    "sf = sf[['catalog','auc']]"
   ]
  },
  {
   "cell_type": "code",
   "execution_count": 83,
   "id": "775ba593",
   "metadata": {},
   "outputs": [],
   "source": [
    "cfmwide = cfmwide.join(sf.set_index('catalog'),'catalog')"
   ]
  },
  {
   "cell_type": "code",
   "execution_count": 84,
   "id": "67225384",
   "metadata": {},
   "outputs": [],
   "source": [
    "cfmwide = cfmwide.loc[~cfmwide.catalog.isin(omits)]"
   ]
  },
  {
   "cell_type": "code",
   "execution_count": 85,
   "id": "97fbb7d4",
   "metadata": {},
   "outputs": [],
   "source": [
    "cfmwide.to_pickle('c.pkl')"
   ]
  },
  {
   "cell_type": "markdown",
   "id": "52b4ff79",
   "metadata": {},
   "source": [
    "# Texture image and color reading"
   ]
  },
  {
   "cell_type": "code",
   "execution_count": 86,
   "id": "a155d2d0",
   "metadata": {},
   "outputs": [],
   "source": [
    "cx = cfmwide.join(xfm.set_index('catalog'),'catalog')"
   ]
  },
  {
   "cell_type": "code",
   "execution_count": 87,
   "id": "87cca7ea",
   "metadata": {},
   "outputs": [],
   "source": [
    "cx = cx.loc[(cx.dminHex.notnull())&(cx.roughness.notnull())]"
   ]
  },
  {
   "cell_type": "code",
   "execution_count": 88,
   "id": "0b3c873c",
   "metadata": {},
   "outputs": [],
   "source": [
    "def draw_panel(df,i):\n",
    "    dminHex = df.dminHex.loc[i]\n",
    "    pbpath = df.pbpath_new.loc[i]\n",
    "    canvas = Image.new('RGB',(128,128),dminHex)\n",
    "    im = Image.open(pbpath)\n",
    "    im.thumbnail((64,64),Image.Resampling.LANCZOS)\n",
    "    canvas.paste(im,(32,32))\n",
    "    \n",
    "    return canvas"
   ]
  },
  {
   "cell_type": "code",
   "execution_count": 89,
   "id": "30cdcb05",
   "metadata": {},
   "outputs": [],
   "source": [
    "# cx['gpath'] = [draw_panel(cx,i) for i in cx.index]"
   ]
  },
  {
   "cell_type": "code",
   "execution_count": 90,
   "id": "60da7570",
   "metadata": {},
   "outputs": [],
   "source": [
    "from ivpy.extract import extract"
   ]
  },
  {
   "cell_type": "code",
   "execution_count": 91,
   "id": "a591bf16",
   "metadata": {},
   "outputs": [],
   "source": [
    "attach(cx,'pbpath_new')"
   ]
  },
  {
   "cell_type": "code",
   "execution_count": 92,
   "id": "fb805fc9",
   "metadata": {},
   "outputs": [],
   "source": [
    "#cx['brightness'] = extract('brightness')"
   ]
  },
  {
   "cell_type": "code",
   "execution_count": 93,
   "id": "91dc3527",
   "metadata": {},
   "outputs": [],
   "source": [
    "#montage(pathcol=cx.gpath,xcol=cx.brightness,thumb=128,shape='rect').save('/Users/damoncrockett/Desktop/cx.jpg')"
   ]
  },
  {
   "cell_type": "code",
   "execution_count": 94,
   "id": "a6419d1a",
   "metadata": {},
   "outputs": [],
   "source": [
    "# attach(cx,'pbpath_new')\n",
    "# show(xcol='brightness',ascending=True,xdomain=(0,0.3),idx=True,thumb=120,bg='grey',\n",
    "#      notecol=cx.roughness.apply(lambda x: round(x,3)))"
   ]
  },
  {
   "cell_type": "code",
   "execution_count": 95,
   "id": "2642705c",
   "metadata": {},
   "outputs": [],
   "source": [
    "# attach(cx,'pbpath_new')\n",
    "# show(xcol='roughness',xdomain=(0.189,0.6),idx=True,thumb=120,bg='grey',\n",
    "#      notecol=cx.roughness.apply(lambda x: round(x,3)))"
   ]
  },
  {
   "cell_type": "markdown",
   "id": "111c3aca",
   "metadata": {},
   "source": [
    "# Join"
   ]
  },
  {
   "cell_type": "code",
   "execution_count": 96,
   "id": "3b8e1f0a",
   "metadata": {},
   "outputs": [],
   "source": [
    "tmp = db.join(cfmwide.set_index('catalog'),'catalog')\n",
    "tmp = tmp.join(xfm.set_index('catalog'),'catalog')\n",
    "tmp = tmp.join(tfm.set_index('catalog'),'catalog')\n",
    "tmp = tmp.join(gfm.set_index('catalog'),'catalog')"
   ]
  },
  {
   "cell_type": "code",
   "execution_count": 97,
   "id": "7a4aa47e",
   "metadata": {},
   "outputs": [],
   "source": [
    "tmp.to_pickle('/Users/damoncrockett/lmlproc/dbdf.pkl')"
   ]
  },
  {
   "cell_type": "code",
   "execution_count": null,
   "id": "cdb77cdf",
   "metadata": {},
   "outputs": [],
   "source": []
  }
 ],
 "metadata": {
  "kernelspec": {
   "display_name": "Python 3 (ipykernel)",
   "language": "python",
   "name": "python3"
  },
  "language_info": {
   "codemirror_mode": {
    "name": "ipython",
    "version": 3
   },
   "file_extension": ".py",
   "mimetype": "text/x-python",
   "name": "python",
   "nbconvert_exporter": "python",
   "pygments_lexer": "ipython3",
   "version": "3.10.4"
  }
 },
 "nbformat": 4,
 "nbformat_minor": 5
}
